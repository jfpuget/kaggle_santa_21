{
 "cells": [
  {
   "cell_type": "code",
   "execution_count": 1,
   "id": "9b253559-0aeb-49eb-ae09-2431369e6068",
   "metadata": {},
   "outputs": [],
   "source": [
    "import itertools\n",
    "from scipy.optimize import linear_sum_assignment\n",
    "import numpy as np\n",
    "from tqdm import tqdm\n",
    "from collections import Counter"
   ]
  },
  {
   "cell_type": "code",
   "execution_count": 2,
   "id": "6dd56338-9bd2-4c18-8258-b7aa2d9ed0a4",
   "metadata": {},
   "outputs": [],
   "source": [
    "import os \n",
    "os.environ['CPLEX_STUDIO_DIR201'] = \"/opt/ibm/ILOG/CPLEX_Studio_Community201\"\n",
    "os.environ['CPLEX_STUDIO_KEY'] = \"xxxx\"\n",
    "from docplex.mp.model import Model\n",
    "from docplex.mp.environment import Environment"
   ]
  },
  {
   "cell_type": "code",
   "execution_count": 3,
   "id": "fa67c80a-5124-4f4b-80e9-55892196d359",
   "metadata": {},
   "outputs": [],
   "source": [
    "permutations = [''.join(x) for x in itertools.permutations(['1','2','3','4','5','6','7'], 7)]\n",
    "permutations1 = ['12' + ''.join(x) for x in itertools.permutations(['3','4','5','6','7'], 5)]\n",
    "permutations = permutations1 + permutations"
   ]
  },
  {
   "cell_type": "code",
   "execution_count": 4,
   "id": "6a70752e-31f4-4751-b65a-97e7d725c763",
   "metadata": {},
   "outputs": [
    {
     "data": {
      "text/plain": [
       "5160"
      ]
     },
     "execution_count": 4,
     "metadata": {},
     "output_type": "execute_result"
    }
   ],
   "source": [
    "N = len(permutations)\n",
    "N"
   ]
  },
  {
   "cell_type": "code",
   "execution_count": 5,
   "id": "3a582546",
   "metadata": {},
   "outputs": [],
   "source": [
    "MAX_COST = 3"
   ]
  },
  {
   "cell_type": "code",
   "execution_count": 6,
   "id": "d7fb5897-5f08-4b0a-a999-db62df008790",
   "metadata": {},
   "outputs": [],
   "source": [
    "p2i = {}\n",
    "for i,p in enumerate(permutations):\n",
    "    p2i[p] = i"
   ]
  },
  {
   "cell_type": "code",
   "execution_count": 7,
   "id": "6c819f39-ca7b-4a90-8cc1-e77533e500c7",
   "metadata": {},
   "outputs": [],
   "source": [
    "permutations = np.array(permutations)\n",
    "permutations_set = set(permutations)\n",
    "#np.random.shuffle(permutations)"
   ]
  },
  {
   "cell_type": "code",
   "execution_count": 8,
   "id": "861d1b92",
   "metadata": {},
   "outputs": [
    {
     "data": {
      "text/plain": [
       "1"
      ]
     },
     "execution_count": 8,
     "metadata": {},
     "output_type": "execute_result"
    }
   ],
   "source": [
    "def get_cost(p1, p2):\n",
    "    if p1 == p2:\n",
    "        return 10000\n",
    "    for i in range(1, MAX_COST+1):\n",
    "        #if i == 2 and p1[0] == '1' and p1[2] == '2':\n",
    "        #    return 10000\n",
    "        if p1[i:] == p2[:-i]:\n",
    "            return i \n",
    "    return 10000\n",
    "\n",
    "p1, p2 = '1234567', '2345672'\n",
    "get_cost(p1, p2)"
   ]
  },
  {
   "cell_type": "code",
   "execution_count": 9,
   "id": "1bc9cde1",
   "metadata": {},
   "outputs": [
    {
     "name": "stderr",
     "output_type": "stream",
     "text": [
      "100%|██████████████████████████████████████| 5160/5160 [00:38<00:00, 135.47it/s]\n"
     ]
    },
    {
     "data": {
      "text/plain": [
       "47520"
      ]
     },
     "execution_count": 9,
     "metadata": {},
     "output_type": "execute_result"
    }
   ],
   "source": [
    "def get_dmat(permutations):\n",
    "    L = len(permutations)\n",
    "    var_idx = []\n",
    "    cost = {}\n",
    "    for i,p1 in enumerate(tqdm(permutations)):\n",
    "        for j,p2 in enumerate(permutations):\n",
    "            cost_ij = get_cost(p1, p2)\n",
    "            if cost_ij <= MAX_COST:\n",
    "                var_idx.append((i, j))\n",
    "                cost[(i,j)] = cost_ij\n",
    "    return var_idx, cost\n",
    "\n",
    "var_idx, all_cost = get_dmat(permutations)\n",
    "\n",
    "len(var_idx)"
   ]
  },
  {
   "cell_type": "code",
   "execution_count": 10,
   "id": "0b8ec6c2-81fb-47ab-8ccd-932d0b6cbbd4",
   "metadata": {},
   "outputs": [],
   "source": [
    "def get_pair_idx(var_idx):\n",
    "    firsts = {}\n",
    "    lasts = {}\n",
    "    for i,j in var_idx:\n",
    "        if not firsts.get(j, False):\n",
    "            firsts[j] = [i]\n",
    "        else:\n",
    "            firsts[j].append(i)\n",
    "        if not lasts.get(i, False):\n",
    "            lasts[i] = [j]\n",
    "        else:\n",
    "            lasts[i].append(j)\n",
    "    return firsts, lasts\n",
    "\n",
    "\n",
    "firsts, lasts = get_pair_idx(var_idx)"
   ]
  },
  {
   "cell_type": "code",
   "execution_count": 11,
   "id": "d3d5ea8a",
   "metadata": {},
   "outputs": [
    {
     "data": {
      "text/plain": [
       "(9, 9)"
      ]
     },
     "execution_count": 11,
     "metadata": {},
     "output_type": "execute_result"
    }
   ],
   "source": [
    "len(firsts[0]), len(lasts[0])"
   ]
  },
  {
   "cell_type": "code",
   "execution_count": 12,
   "id": "b2a8af37",
   "metadata": {},
   "outputs": [
    {
     "name": "stdout",
     "output_type": "stream",
     "text": [
      "* system is: Linux 64bit\n",
      "* Python version 3.8.12, located at: /home/jpuget/miniconda3/envs/cplex201/bin/python\n",
      "* docplex is present, version is 2.18.200\n",
      "* CPLEX library is present, version is 20.1.0.0, located at: /home/jpuget/miniconda3/envs/cplex201/lib/python3.8/site-packages\n",
      "* pandas is present, version is 1.3.4\n",
      "Model: santa\n",
      " - number of variables: 74040\n",
      "   - binary=58560, integer=0, continuous=15480\n",
      " - number of constraints: 0\n",
      "   - linear=0\n",
      " - parameters: defaults\n",
      " - objective: none\n",
      " - problem type is: MILP\n"
     ]
    }
   ],
   "source": [
    "env = Environment()\n",
    "env.print_information()\n",
    "\n",
    "mdl = Model(\"santa\")\n",
    "next_perm = mdl.binary_var_dict(var_idx)\n",
    "start_perm = mdl.binary_var_list(range(N), name='start')\n",
    "end_perm = mdl.binary_var_list(range(N), name='end')\n",
    "class_perm = mdl.continuous_var_matrix(range(N), range(3), lb=0, ub=1, name='class')\n",
    "class_perm_binary = mdl.binary_var_matrix(range(240), range(3), name='class_binary')\n",
    "mdl.print_information()"
   ]
  },
  {
   "cell_type": "code",
   "execution_count": 13,
   "id": "7282a08e",
   "metadata": {},
   "outputs": [
    {
     "name": "stdout",
     "output_type": "stream",
     "text": [
      "Model: santa\n",
      " - number of variables: 74040\n",
      "   - binary=58560, integer=0, continuous=15480\n",
      " - number of constraints: 10320\n",
      "   - linear=10320\n",
      " - parameters: defaults\n",
      " - objective: none\n",
      " - problem type is: MILP\n"
     ]
    }
   ],
   "source": [
    "mdl.add_constraints(\n",
    "    mdl.sum(next_perm[(i,j)] for i in firsts[j]) + start_perm[j] == 1\n",
    "    for j in range(N))\n",
    "\n",
    "mdl.add_constraints(\n",
    "    mdl.sum(next_perm[(i,j)] for j in lasts[i]) + end_perm[i] == 1\n",
    "    for i in range(N))\n",
    "\n",
    "mdl.print_information()"
   ]
  },
  {
   "cell_type": "code",
   "execution_count": 14,
   "id": "0f9af6de",
   "metadata": {},
   "outputs": [
    {
     "name": "stdout",
     "output_type": "stream",
     "text": [
      "Model: santa\n",
      " - number of variables: 74040\n",
      "   - binary=58560, integer=0, continuous=15480\n",
      " - number of constraints: 10322\n",
      "   - linear=10322\n",
      " - parameters: defaults\n",
      " - objective: none\n",
      " - problem type is: MILP\n"
     ]
    }
   ],
   "source": [
    "mdl.add_constraint(mdl.sum(start_perm) == mdl.sum(end_perm))\n",
    "mdl.add_constraint(mdl.sum(start_perm) == 90)\n",
    "#mdl.add_constraints(start_perm[i] <= start_perm[1+120] for i in range(120))\n",
    "\n",
    "mdl.print_information()"
   ]
  },
  {
   "cell_type": "code",
   "execution_count": 15,
   "id": "b5a97b9f",
   "metadata": {},
   "outputs": [
    {
     "name": "stdout",
     "output_type": "stream",
     "text": [
      "Model: santa\n",
      " - number of variables: 74040\n",
      "   - binary=58560, integer=0, continuous=15480\n",
      " - number of constraints: 18962\n",
      "   - linear=18962\n",
      " - parameters: defaults\n",
      " - objective: none\n",
      " - problem type is: MILP\n"
     ]
    }
   ],
   "source": [
    "# from model_045 solution\n",
    "\n",
    "mdl.add_constraints(start_perm[i] == 0 for i,p in enumerate(permutations) if not p.startswith('12'))\n",
    "mdl.add_constraints(end_perm[i] == 0 for i,p in enumerate(permutations) if (p[0] != '1' and p[2] != '2'))\n",
    "\n",
    "mdl.print_information()"
   ]
  },
  {
   "cell_type": "code",
   "execution_count": 16,
   "id": "820924ee",
   "metadata": {},
   "outputs": [
    {
     "name": "stdout",
     "output_type": "stream",
     "text": [
      "Model: santa\n",
      " - number of variables: 74040\n",
      "   - binary=58560, integer=0, continuous=15480\n",
      " - number of constraints: 305408\n",
      "   - linear=305408\n",
      " - parameters: defaults\n",
      " - objective: none\n",
      " - problem type is: MILP\n"
     ]
    }
   ],
   "source": [
    "# next_perm[(i,j)] == 1 => (class_perm[i] == class_perm[j])\n",
    "\n",
    "mdl.add_constraints(\n",
    "    class_perm[(i, k)] - class_perm[(j, k)] <= (1 - next_perm[(i,j)])\n",
    "    for i,j in var_idx\n",
    "    for k in range(3)\n",
    ")\n",
    "\n",
    "mdl.add_constraints(\n",
    "    class_perm[(j, k)] - class_perm[(i, k)] <= (1 - next_perm[(i,j)])\n",
    "    for i,j in var_idx\n",
    "    for k in range(3)\n",
    ")\n",
    "\n",
    "mdl.add_constraints(\n",
    "    class_perm_binary[(i+120, k)] + class_perm_binary[(i, k)] <= 1\n",
    "    for i in range(120)\n",
    "    for k in range(3)\n",
    ")\n",
    "\n",
    "mdl.add_constraints(\n",
    "    class_perm[(i,k)] == class_perm_binary[(i,k)]\n",
    "    for i in range(240)\n",
    "    for k in range(3)\n",
    ")\n",
    "\n",
    "mdl.add_constraints(\n",
    "    mdl.sum(class_perm[(i,k)] for k in range(3)) == 1\n",
    "    for i in range(240)\n",
    ")\n",
    "\n",
    "mdl.add_constraints(\n",
    "    mdl.sum(class_perm[(i,k)] for i in range(N)) == N // 3\n",
    "    for k in range(3)\n",
    ")\n",
    "\n",
    "mdl.add_constraints(\n",
    "    mdl.sum(class_perm[(i,k)] for i in range(240)) == 240 // 3\n",
    "    for k in range(3)\n",
    ")\n",
    "\n",
    "mdl.print_information()"
   ]
  },
  {
   "cell_type": "code",
   "execution_count": 17,
   "id": "c5fcb1a7",
   "metadata": {},
   "outputs": [],
   "source": [
    "def rot(s, i=1):\n",
    "    if i <= 0:\n",
    "        return s\n",
    "    return s[i:] + s[:i]\n",
    "\n",
    "def get_canon(s):\n",
    "    best = s\n",
    "    for i in range(len(s)-1):\n",
    "        s = rot(s)\n",
    "        if s[0] < best[0]:\n",
    "            best = s\n",
    "    return best"
   ]
  },
  {
   "cell_type": "code",
   "execution_count": 18,
   "id": "1c685960",
   "metadata": {},
   "outputs": [],
   "source": [
    "def get_1_cycle(i, s):\n",
    "    cycle = [rot(s, i) for i in range(len(s))]\n",
    "    cycle = [p2i[p] for p in cycle]\n",
    "    cycle[0] = i\n",
    "    return cycle\n",
    "    \n",
    "cycles1 = []\n",
    "for i,p in enumerate(permutations):\n",
    "    if p != get_canon(p):\n",
    "        continue\n",
    "    cycles1.append(get_1_cycle(i, p))\n",
    "\n",
    "def get_alternate(i):\n",
    "    if i < 120:\n",
    "        return i + 120\n",
    "    elif i < 240:\n",
    "        return i - 120\n",
    "    return i\n",
    "\n",
    "def get_inner(cycle):\n",
    "    inner = []\n",
    "    for j in cycle:\n",
    "        inner.extend([(i, j) for i in firsts[j] if i not in cycle and get_alternate(i) not in cycle])\n",
    "    return inner\n",
    "\n",
    "def get_outer(cycle):\n",
    "    outer = []\n",
    "    for i in cycle:\n",
    "        outer.extend([(i, j) for j in lasts[i] if j not in cycle and get_alternate(j) not in cycle])\n",
    "    return outer\n",
    "\n",
    "var_idx_set = set(var_idx)\n",
    "\n",
    "def get_cycle_edges(cycle):\n",
    "    edges = [(i,j) for i,j in itertools.permutations(cycle, 2) if (i,j) in var_idx_set]\n",
    "    return edges\n",
    "    "
   ]
  },
  {
   "cell_type": "code",
   "execution_count": 19,
   "id": "43246fe3",
   "metadata": {},
   "outputs": [
    {
     "name": "stdout",
     "output_type": "stream",
     "text": [
      "Model: santa\n",
      " - number of variables: 74040\n",
      "   - binary=58560, integer=0, continuous=15480\n",
      " - number of constraints: 307088\n",
      "   - linear=307088\n",
      " - parameters: defaults\n",
      " - objective: none\n",
      " - problem type is: MILP\n"
     ]
    }
   ],
   "source": [
    "mdl.add_constraints(\n",
    "    mdl.sum(next_perm[(i,j)] for i,j in get_inner(cycle)) + mdl.sum(start_perm[j] for j in cycle) >= 1\n",
    "    for cycle in cycles1\n",
    ")\n",
    "\n",
    "mdl.add_constraints(\n",
    "    mdl.sum(next_perm[(i,j)] for i,j in get_outer(cycle)) + mdl.sum(end_perm[i] for i in cycle) >= 1\n",
    "    for cycle in cycles1\n",
    ")\n",
    "\n",
    "#mdl.add_constraints(\n",
    "#    mdl.sum(all_cost[(i,j)] * next_perm[(i,j)] for i,j in get_cycle_edges(cycle)) <= len(cycle) - 1\n",
    "#    for cycle in cycles1\n",
    "#)\n",
    "\n",
    "mdl.print_information()"
   ]
  },
  {
   "cell_type": "code",
   "execution_count": 20,
   "id": "7d303112",
   "metadata": {},
   "outputs": [
    {
     "name": "stderr",
     "output_type": "stream",
     "text": [
      "100%|████████████████████████████████████| 5040/5040 [00:00<00:00, 33963.61it/s]\n"
     ]
    },
    {
     "data": {
      "text/plain": [
       "1200"
      ]
     },
     "execution_count": 20,
     "metadata": {},
     "output_type": "execute_result"
    }
   ],
   "source": [
    "def remove_start(s, start):\n",
    "    idx = s.index(start)\n",
    "    s = s[idx:] + s[:idx]\n",
    "    return s[0] + get_canon(s[1:])\n",
    "\n",
    "def get_2_cycle(p, start):\n",
    "    p = remove_start(p, start)\n",
    "    p1 = p[1:]\n",
    "    inner = [rot(p1, i) for i in range(len(p1))]\n",
    "    cycle = [rot(q+start, j) for q in inner for j in range(len(p))]\n",
    "    #cycle1 = [get_1_cycle(q+start) for q in inner]\n",
    "    #cycle = get_canon(cycle)\n",
    "    cycle = [p2i[p] for p in cycle]\n",
    "    return p, cycle\n",
    "\n",
    "cycles2 = {}\n",
    "\n",
    "for p in tqdm(permutations[120:]):\n",
    "    for start in p:\n",
    "        p1 = remove_start(p, start)\n",
    "        if cycles2.get(p1, None) is not None:\n",
    "            continue\n",
    "        p1, cycle = get_2_cycle(p, start)\n",
    "        cycles2[p1] = cycle\n",
    "\n",
    "cycles2['2134567']\n",
    "\n",
    "len(cycles2)\n",
    "\n",
    "def get_alternate_2cycles(cycle):\n",
    "    new_cycle = []\n",
    "    duplicate = False\n",
    "    for i in cycle:\n",
    "        ii = get_alternate(i)\n",
    "        if i != ii:\n",
    "            duplicate = True\n",
    "        new_cycle.append(ii)\n",
    "    if duplicate:\n",
    "        return [cycle, new_cycle]\n",
    "    else:\n",
    "        return [cycle]\n",
    "\n",
    "all_cycles2 = [cycle for v in cycles2.values() for cycle in get_alternate_2cycles(v)]\n",
    "len(all_cycles2)"
   ]
  },
  {
   "cell_type": "code",
   "execution_count": 21,
   "id": "926911b0",
   "metadata": {},
   "outputs": [
    {
     "data": {
      "text/plain": [
       "['1234567', '1243567', '1245367', '1245637', '1245673']"
      ]
     },
     "execution_count": 21,
     "metadata": {},
     "output_type": "execute_result"
    }
   ],
   "source": [
    "sorted([p for p in [permutations[i] for i in cycles2['3124567']] if p.startswith('12')])"
   ]
  },
  {
   "cell_type": "code",
   "execution_count": 22,
   "id": "c9754f2c",
   "metadata": {},
   "outputs": [
    {
     "name": "stdout",
     "output_type": "stream",
     "text": [
      "Model: santa\n",
      " - number of variables: 74040\n",
      "   - binary=58560, integer=0, continuous=15480\n",
      " - number of constraints: 309488\n",
      "   - linear=309488\n",
      " - parameters: defaults\n",
      " - objective: none\n",
      " - problem type is: MILP\n"
     ]
    }
   ],
   "source": [
    "mdl.add_constraints(\n",
    "    mdl.sum(next_perm[(i,j)] for i,j in get_inner(cycle)) + mdl.sum(start_perm[j] for j in cycle) >= 1\n",
    "    for cycle in all_cycles2\n",
    ")\n",
    "\n",
    "mdl.add_constraints(\n",
    "    mdl.sum(next_perm[(i,j)] for i,j in get_outer(cycle)) + mdl.sum(end_perm[i] for i in cycle) >= 1\n",
    "    for cycle in all_cycles2\n",
    ")\n",
    "\n",
    "mdl.print_information()"
   ]
  },
  {
   "cell_type": "code",
   "execution_count": 23,
   "id": "b393a52f",
   "metadata": {},
   "outputs": [
    {
     "name": "stdout",
     "output_type": "stream",
     "text": [
      "Model: santa\n",
      " - number of variables: 79200\n",
      "   - binary=58560, integer=0, continuous=20640\n",
      " - number of constraints: 367328\n",
      "   - linear=367328\n",
      " - parameters: defaults\n",
      " - objective: none\n",
      " - problem type is: MILP\n"
     ]
    }
   ],
   "source": [
    "N3 = N // 3\n",
    "#N3 = 108\n",
    "\n",
    "u = mdl.continuous_var_list(range(N), lb=0, ub=N3-1, name='u')\n",
    "\n",
    "mdl.add_constraints(\n",
    "    u[i] - u[j] + N3 * next_perm[(i,j)] <= N3 - 1\n",
    "    for i,j in var_idx \n",
    ")\n",
    "\n",
    "mdl.add_constraints(\n",
    "    u[i] <= (N3 - 1) * (1 - start_perm[i])\n",
    "    for i in range(N)\n",
    ")\n",
    "\n",
    "mdl.add_constraints(\n",
    "    u[i] >= (1 - start_perm[i])\n",
    "    for i in range(N)\n",
    ")\n",
    "\n",
    "mdl.print_information()"
   ]
  },
  {
   "cell_type": "code",
   "execution_count": 24,
   "id": "b76b7e16",
   "metadata": {},
   "outputs": [
    {
     "name": "stdout",
     "output_type": "stream",
     "text": [
      "Model: santa\n",
      " - number of variables: 79200\n",
      "   - binary=58560, integer=0, continuous=20640\n",
      " - number of constraints: 371528\n",
      "   - linear=371528\n",
      " - parameters: defaults\n",
      " - objective: none\n",
      " - problem type is: MILP\n"
     ]
    }
   ],
   "source": [
    "s0 = '21111112111111211111121111112111111'\n",
    "#s1 = '111121' + s0\n",
    "def get_string(start, code):\n",
    "    string = start\n",
    "    seq = [p2i[start]]\n",
    "    for c in code:\n",
    "        if c == '1':\n",
    "            start = rot(start)\n",
    "            string = string + start[-1]\n",
    "            seq.append(p2i[start])\n",
    "        elif c == '2':\n",
    "            start = rot(start, 2)\n",
    "            start = start[:5] + start[-1] + start[-2]\n",
    "            string = string + start[-2:]\n",
    "            seq.append(p2i[start])\n",
    "        elif c == '3':\n",
    "            start = rot(start, 3)            \n",
    "            start = start[:4] + start[-1] + start[-3] + start[-2]\n",
    "            string = string + start[-3:]\n",
    "            seq.append(p2i[start])\n",
    "    return seq, string\n",
    "\n",
    "for k in range(120):\n",
    "    seq, _ = get_string(permutations[k], s0)\n",
    "    mdl.add_constraints(\n",
    "        next_perm[(i,j)] == 1 for i,j in zip(seq[:-1], seq[1:])\n",
    "    )\n",
    "\n",
    "mdl.print_information()"
   ]
  },
  {
   "cell_type": "code",
   "execution_count": 25,
   "id": "8f9273ac",
   "metadata": {
    "scrolled": true
   },
   "outputs": [
    {
     "name": "stdout",
     "output_type": "stream",
     "text": [
      "Model: santa\n",
      " - number of variables: 79200\n",
      "   - binary=58560, integer=0, continuous=20640\n",
      " - number of constraints: 371528\n",
      "   - linear=371528\n",
      " - parameters: defaults\n",
      " - objective: minimize\n",
      " - problem type is: MILP\n",
      "Checking license ...\n",
      "License found. [0.04 s]\n",
      "Version identifier: 20.1.0.0 | 2020-11-11 | 9bedb6d68\n",
      "CPXPARAM_Read_DataCheck                          1\n",
      "CPXPARAM_Threads                                 20\n",
      "CPXPARAM_RandomSeed                              202001241\n",
      "CPXPARAM_TimeLimit                               100000\n",
      "CPXPARAM_MIP_Tolerances_UpperCutoff              6480.0010000000002\n",
      "CPXPARAM_MIP_Tolerances_MIPGap                   0\n",
      "Tried aggregator 6 times.\n",
      "MIP Presolve eliminated 303000 rows and 50520 columns.\n",
      "MIP Presolve modified 83520 coefficients.\n",
      "Aggregator did 17520 substitutions.\n",
      "Reduced MIP has 51008 rows, 11160 columns, and 199200 nonzeros.\n",
      "Reduced MIP has 8040 binaries, 0 generals, 0 SOSs, and 0 indicators.\n",
      "Presolve time = 0.70 sec. (652.36 ticks)\n",
      "Probing time = 0.07 sec. (5.35 ticks)\n",
      "Cover probing fixed 0 vars, tightened 238 bounds.\n",
      "Tried aggregator 1 time.\n",
      "Detecting symmetries...\n",
      "MIP Presolve modified 1668 coefficients.\n",
      "Reduced MIP has 51008 rows, 11160 columns, and 199200 nonzeros.\n",
      "Reduced MIP has 8040 binaries, 0 generals, 0 SOSs, and 0 indicators.\n",
      "Presolve time = 0.17 sec. (124.28 ticks)\n",
      "Probing time = 0.04 sec. (5.13 ticks)\n",
      "Clique table members: 2520.\n",
      "MIP emphasis: balance optimality and feasibility.\n",
      "MIP search method: dynamic search.\n",
      "Parallel mode: deterministic, using up to 20 threads.\n",
      "Root relaxation solution time = 12.42 sec. (6835.03 ticks)\n",
      "\n",
      "        Nodes                                         Cuts/\n",
      "   Node  Left     Objective  IInf  Best Integer    Best Bound    ItCnt     Gap\n",
      "\n",
      "      0     0     6479.9100  2291                   6479.9100       11         \n",
      "      0     0     6479.9100  1800                   Cuts: 536     8709         \n",
      "      0     0     6479.9100  2009                  Cuts: 1084    18697         \n",
      "\n",
      "Repeating presolve.\n",
      "Tried aggregator 3 times.\n",
      "MIP Presolve eliminated 26654 rows and 4556 columns.\n",
      "MIP Presolve modified 2063 coefficients.\n",
      "Aggregator did 746 substitutions.\n",
      "Reduced MIP has 23608 rows, 5858 columns, and 88517 nonzeros.\n",
      "Reduced MIP has 3472 binaries, 0 generals, 0 SOSs, and 0 indicators.\n",
      "Presolve time = 0.31 sec. (223.92 ticks)\n",
      "Probing fixed 0 vars, tightened 198 bounds.\n",
      "Probing time = 0.04 sec. (7.36 ticks)\n",
      "Cover probing fixed 0 vars, tightened 534 bounds.\n",
      "Tried aggregator 1 time.\n",
      "Detecting symmetries...\n",
      "MIP Presolve modified 4891 coefficients.\n",
      "Reduced MIP has 23608 rows, 5858 columns, and 88517 nonzeros.\n",
      "Reduced MIP has 3472 binaries, 0 generals, 0 SOSs, and 0 indicators.\n",
      "Presolve time = 0.09 sec. (57.27 ticks)\n",
      "Represolve time = 0.48 sec. (325.77 ticks)\n",
      "Probing fixed 0 vars, tightened 285 bounds.\n",
      "Probing time = 0.04 sec. (7.76 ticks)\n",
      "Cover probing fixed 0 vars, tightened 231 bounds.\n",
      "Clique table members: 16326.\n",
      "MIP emphasis: balance optimality and feasibility.\n",
      "MIP search method: dynamic search.\n",
      "Parallel mode: deterministic, using up to 20 threads.\n",
      "Root relaxation solution time = 3.81 sec. (1945.88 ticks)\n",
      "\n",
      "        Nodes                                         Cuts/\n",
      "   Node  Left     Objective  IInf  Best Integer    Best Bound    ItCnt     Gap\n",
      "\n",
      "      0     0     6479.9100  1744                   6479.9100    27209         \n",
      "      0     0     6479.9100  1348                   Cuts: 406    30122         \n",
      "      0     0     6479.9100  1525                  Cuts: 1078    33727         \n",
      "      0     0     6479.9100  1374                   Cuts: 138    35757         \n",
      "      0     0     6479.9100  1511                   Cuts: 729    41000         \n",
      "Detecting symmetries...\n",
      "      0     2     6479.9100   729                   6479.9100    41000         \n",
      "Elapsed time = 189.72 sec. (91850.11 ticks, tree = 0.02 MB, solutions = 0)\n",
      "      1     3     6479.9100  1387                   6479.9100    47620         \n",
      "      2     4     6479.9100  1425                   6479.9100    53023         \n",
      "      3     5     6479.9100  1325                   6479.9100    60045         \n",
      "      4     6     6479.9100  1060                   6479.9100    62143         \n",
      "      5     7     6479.9100  1049                   6479.9100    64122         \n",
      "      6     8     6479.9100   988                   6479.9100    67758         \n",
      "      8     9     6479.9100   790                   6479.9100    68657         \n",
      "     12    13     6479.9100   709                   6479.9100    78214         \n",
      "     13    12     6479.9100  1265                   6479.9100    77721         \n",
      "     20    19     6479.9100   615                   6479.9100    91587         \n",
      "Elapsed time = 222.37 sec. (112367.05 ticks, tree = 0.02 MB, solutions = 0)\n",
      "     29    27     6479.9100  1068                   6479.9100   104035         \n",
      "     39    29     6479.9100   965                   6479.9100   111464         \n",
      "     48    13     6479.9100   447                   6479.9100    79730         \n",
      "     66    33     6479.9100   666                   6479.9100   119950         \n",
      "     92    33     6479.9100  1042                   6479.9100   122441         \n",
      "    135    70     6479.9100    24                   6479.9100   152609         \n",
      "    208   130     6479.9100   302                   6479.9100   239012         \n",
      "    279   153     6479.9100    98                   6479.9100   276237         \n",
      "    365   231     6479.9100    12                   6479.9100   335623         \n",
      "    439   283     6479.9100    37                   6479.9100   377273         \n",
      "Elapsed time = 247.80 sec. (122270.12 ticks, tree = 1.05 MB, solutions = 0)\n",
      "    532   334     6479.9100   150                   6479.9100   442935         \n",
      "    586   382     6479.9100    13                   6479.9100   473283         \n",
      "*   642   420      integral     0     6479.9100     6479.9100   553323    0.00%\n",
      "    644   408     6479.9100   753     6479.9100     6479.9100   514563    0.00%\n",
      "    668   510     6479.9100    12     6479.9100     6479.9100   610765    0.00%\n",
      "    678   198     6479.9100   100     6479.9100     6479.9100   314149    0.00%\n",
      "    681   264     6479.9100   126     6479.9100     6479.9100   356813    0.00%\n",
      "    683   292     6479.9100    20     6479.9100     6479.9100   380715    0.00%\n",
      "    685   361     6479.9100    13     6479.9100     6479.9100   456017    0.00%\n",
      "    688   485     6479.9100    13     6479.9100     6479.9100   585241    0.00%\n",
      "\n",
      "Implied bound cuts applied:  731\n",
      "Flow cuts applied:  42\n",
      "Mixed integer rounding cuts applied:  355\n",
      "Lift and project cuts applied:  1\n",
      "\n",
      "Root node processing (before b&c):\n",
      "  Real time             =  189.58 sec. (91833.99 ticks)\n",
      "Parallel b&c, 20 threads:\n",
      "  Real time             =  108.99 sec. (56328.97 ticks)\n",
      "  Sync time (average)   =   29.48 sec.\n",
      "  Wait time (average)   =    0.00 sec.\n",
      "                          ------------\n",
      "Total (root+branch&cut) =  298.57 sec. (148162.96 ticks)\n",
      "* model santa solved with objective = 6479.910\n"
     ]
    }
   ],
   "source": [
    "objective = mdl.sum(next_perm[idx] * all_cost[idx] for idx in var_idx) + 6.999 * mdl.sum(start_perm)\n",
    "                          \n",
    "# Set objective function\n",
    "mdl.minimize(objective)\n",
    "\n",
    "mdl.print_information()\n",
    "\n",
    "mdl.parameters.mip.tolerances.mipgap = 0.00\n",
    "mdl.parameters.timelimit = 100000 \n",
    "mdl.parameters.threads = 20\n",
    "#mdl.parameters.mip.cuts.gomory = -1\n",
    "mdl.parameters.mip.tolerances.uppercutoff = 7320 - 7*120 + 1e-3\n",
    "\n",
    "mdl.solve(log_output=True)\n",
    "mdl.report()\n",
    "  "
   ]
  },
  {
   "cell_type": "code",
   "execution_count": 26,
   "id": "e3a8f7c0",
   "metadata": {},
   "outputs": [],
   "source": [
    "sol = mdl.solution\n",
    "sol\n",
    "\n",
    "s = sol.get_value_dict(next_perm)\n",
    "s\n",
    "s_start = sol.get_value_list(start_perm)\n",
    "s_end = sol.get_value_list(end_perm)\n",
    "s_u = sol.get_value_list(u)\n",
    "s_class = sol.get_value_dict(class_perm)\n"
   ]
  },
  {
   "cell_type": "code",
   "execution_count": 27,
   "id": "11458209",
   "metadata": {},
   "outputs": [
    {
     "data": {
      "text/plain": [
       "(Counter({1.0: 4320, 2.0: 720, 3.0: 30}),\n",
       " Counter({1: 4320, 2: 720, 3: 30}),\n",
       " Counter({1.0: 5070}),\n",
       " Counter({1.0: 90, 0: 5070}),\n",
       " Counter({0: 5070, 1.0: 90}),\n",
       " Counter({1.0: 5021,\n",
       "          0: 10320,\n",
       "          0.9999999999999999: 42,\n",
       "          0.9999999999999805: 7,\n",
       "          0.9999999999999792: 3,\n",
       "          0.9999999999999859: 15,\n",
       "          1.0000000000000013: 36,\n",
       "          0.9999999999999878: 36}))"
      ]
     },
     "execution_count": 27,
     "metadata": {},
     "output_type": "execute_result"
    }
   ],
   "source": [
    "s_cost = {}\n",
    "s_cost1 = {}\n",
    "s_sol = {}\n",
    "for k,v in s.items():\n",
    "    if v > 0:\n",
    "        s_cost[k] = all_cost[k] * v\n",
    "        s_cost1[k] = all_cost[k] \n",
    "        s_sol[k] = v\n",
    "\n",
    "s_cost\n",
    "\n",
    "\n",
    "\n",
    "C = Counter(s_cost.values())\n",
    "C1 = Counter(s_cost1.values())\n",
    "Cs = Counter(s_sol.values())\n",
    "C, C1, Cs, Counter(s_start), Counter(s_end), Counter(s_class.values())"
   ]
  },
  {
   "cell_type": "code",
   "execution_count": 28,
   "id": "609b0325",
   "metadata": {},
   "outputs": [
    {
     "name": "stdout",
     "output_type": "stream",
     "text": [
      "1423576 3576124\n",
      "1423675 3675124\n",
      "1423756 3756124\n",
      "1423765 3765124\n",
      "1425376 5376124\n",
      "1425736 5736124\n",
      "1426375 6375124\n",
      "1427356 7356124\n",
      "1427536 7536124\n",
      "1523467 3467125\n",
      "1523647 3647125\n",
      "1526347 6347125\n",
      "1624357 4357126\n",
      "1624537 4537126\n",
      "1624735 4735126\n",
      "1625437 5437126\n",
      "1625473 5473126\n",
      "1625743 5743126\n",
      "1627345 7345126\n",
      "1627435 7435126\n",
      "1627543 7543126\n",
      "1723564 3564127\n",
      "1723654 3654127\n",
      "1724563 4563127\n",
      "1724653 4653127\n",
      "1725364 5364127\n",
      "1725634 5634127\n",
      "1726354 6354127\n",
      "1726453 6453127\n",
      "1726534 6534127\n"
     ]
    }
   ],
   "source": [
    "for (i,j), v in s_cost1.items():\n",
    "    if v==3:\n",
    "        print(permutations[i], permutations[j])"
   ]
  },
  {
   "cell_type": "code",
   "execution_count": 29,
   "id": "fcc5fbe5",
   "metadata": {},
   "outputs": [
    {
     "data": {
      "text/plain": [
       "Counter({0: 1720, 2: 1720, 1: 1720})"
      ]
     },
     "execution_count": 29,
     "metadata": {},
     "output_type": "execute_result"
    }
   ],
   "source": [
    "p_class = [int(np.round(s_class[(i, 1)] + 2 * s_class[(i, 2)]) )for i in range(N)]\n",
    "Counter(p_class)"
   ]
  },
  {
   "cell_type": "code",
   "execution_count": 30,
   "id": "5888d7b9",
   "metadata": {},
   "outputs": [
    {
     "data": {
      "text/plain": [
       "Counter({0: 80, 2: 80, 1: 80})"
      ]
     },
     "execution_count": 30,
     "metadata": {},
     "output_type": "execute_result"
    }
   ],
   "source": [
    "Counter(p_class[:240])"
   ]
  },
  {
   "cell_type": "code",
   "execution_count": 31,
   "id": "5482bf7d",
   "metadata": {},
   "outputs": [
    {
     "data": {
      "text/plain": [
       "array([2160., 2160., 2160.])"
      ]
     },
     "execution_count": 31,
     "metadata": {},
     "output_type": "execute_result"
    }
   ],
   "source": [
    "costs = np.zeros(3)\n",
    "for (i,j), c in s_cost1.items():\n",
    "    if (p_class[i] != p_class[j]):\n",
    "        print(p_class[i], p_class[j])\n",
    "    costs[(p_class[i])] += c\n",
    "for i in range(N):\n",
    "    if s_start[i] > 0:\n",
    "        costs[(p_class[i])] += 7\n",
    "costs"
   ]
  },
  {
   "cell_type": "code",
   "execution_count": 32,
   "id": "709af015-53b9-4ce4-9ab0-0708712476b1",
   "metadata": {},
   "outputs": [],
   "source": [
    "def get_cycle(start, s_sol, s_cost, s_start, s_end):\n",
    "    if s_start[start]:\n",
    "        cycle_cost = 7\n",
    "    else:\n",
    "        cycle_cost = 0\n",
    "    cycle = [start]\n",
    "    prev = start\n",
    "    while True:\n",
    "        if s_end[prev]:\n",
    "            return cycle, cycle_cost\n",
    "        candidates0 = []\n",
    "        for j in lasts[prev]:\n",
    "            if s_sol.get((prev, j), 0) > 0:\n",
    "                candidates0.append(j)\n",
    "        candidates1 = [j for j in candidates0 if j not in cycle]\n",
    "        if len(candidates1) > 0:\n",
    "            candidates = candidates1\n",
    "        else:\n",
    "            return cycle, cycle_cost\n",
    "        best_cost = 10000\n",
    "        best_j = -1\n",
    "        for j in candidates:\n",
    "            cost = s_cost[(prev, j)]\n",
    "            if cost < best_cost:\n",
    "                best_cost = cost\n",
    "                best_j = j\n",
    "        cycle.append(best_j)\n",
    "        cycle_cost = cycle_cost + s_cost[(prev, best_j)]\n",
    "        s_sol[(prev, best_j)] = s_sol[(prev, best_j)] - 1\n",
    "        prev = best_j    \n",
    "    return cycle, cycle_cost\n",
    "        "
   ]
  },
  {
   "cell_type": "code",
   "execution_count": 33,
   "id": "6c8ea28d",
   "metadata": {
    "scrolled": true
   },
   "outputs": [
    {
     "name": "stdout",
     "output_type": "stream",
     "text": [
      "42 54 5029.0 1 5 Counter({1.0: 5029, 0.0: 41})\n",
      "82 101 4948.0 2 9 Counter({1.0: 4948, 0.0: 122})\n",
      "42 54 4907.0 1 5 Counter({1.0: 4907, 0.0: 163})\n",
      "42 54 4866.0 1 5 Counter({1.0: 4866, 0.0: 204})\n",
      "42 54 4825.0 1 5 Counter({1.0: 4825, 0.0: 245})\n",
      "152 183 4674.0 4 7 Counter({1.0: 4674, 0.0: 396})\n",
      "48 61 4627.0 1 11 Counter({1.0: 4627, 0.0: 443})\n",
      "162 195 4466.0 4 17 Counter({1.0: 4466, 0.0: 604})\n",
      "42 54 4425.0 1 5 Counter({1.0: 4425, 0.0: 645})\n",
      "94 115 4332.0 2 21 Counter({1.0: 4332, 0.0: 738})\n",
      "82 101 4251.0 2 9 Counter({1.0: 4251, 0.0: 819})\n",
      "88 108 4164.0 2 15 Counter({1.0: 4164, 0.0: 906})\n",
      "42 54 4123.0 1 5 Counter({1.0: 4123, 0.0: 947})\n",
      "78 96 4046.0 2 5 Counter({1.0: 4046, 0.0: 1024})\n",
      "42 54 4005.0 1 5 Counter({1.0: 4005, 0.0: 1065})\n",
      "42 54 3964.0 1 5 Counter({1.0: 3964, 0.0: 1106})\n",
      "134 162 3831.0 3 25 Counter({1.0: 3831, 0.0: 1239})\n",
      "82 101 3750.0 2 9 Counter({1.0: 3750, 0.0: 1320})\n",
      "54 68 3697.0 1 17 Counter({1.0: 3697, 0.0: 1373})\n",
      "42 54 3656.0 1 5 Counter({1.0: 3656, 0.0: 1414})\n",
      "88 108 3569.0 2 15 Counter({1.0: 3569, 0.0: 1501})\n",
      "42 54 3528.0 1 5 Counter({1.0: 3528, 0.0: 1542})\n",
      "82 101 3447.0 2 9 Counter({1.0: 3447, 0.0: 1623})\n",
      "42 54 3406.0 1 5 Counter({1.0: 3406, 0.0: 1664})\n",
      "42 54 3365.0 1 5 Counter({1.0: 3365, 0.0: 1705})\n",
      "42 54 3324.0 1 5 Counter({1.0: 3324, 0.0: 1746})\n",
      "48 61 3277.0 1 11 Counter({1.0: 3277, 0.0: 1793})\n",
      "42 54 3236.0 1 5 Counter({1.0: 3236, 0.0: 1834})\n",
      "94 115 3143.0 2 21 Counter({1.0: 3143, 0.0: 1927})\n",
      "48 61 3096.0 1 11 Counter({1.0: 3096, 0.0: 1974})\n",
      "82 101 3015.0 2 9 Counter({1.0: 3015, 0.0: 2055})\n",
      "42 54 2974.0 1 5 Counter({1.0: 2974, 0.0: 2096})\n",
      "88 108 2887.0 2 15 Counter({1.0: 2887, 0.0: 2183})\n",
      "88 108 2800.0 2 15 Counter({1.0: 2800, 0.0: 2270})\n",
      "88 108 2713.0 2 15 Counter({1.0: 2713, 0.0: 2357})\n",
      "140 169 2574.0 3 31 Counter({1.0: 2574, 0.0: 2496})\n",
      "42 54 2533.0 1 5 Counter({0.0: 2537, 1.0: 2533})\n",
      "88 108 2446.0 2 15 Counter({0.0: 2624, 1.0: 2446})\n",
      "118 143 2329.0 3 9 Counter({0.0: 2741, 1.0: 2329})\n",
      "54 68 2276.0 1 17 Counter({0.0: 2794, 1.0: 2276})\n",
      "48 61 2229.0 1 11 Counter({0.0: 2841, 1.0: 2229})\n",
      "136 164 2094.0 3 27 Counter({0.0: 2976, 1.0: 2094})\n",
      "48 61 2047.0 1 11 Counter({0.0: 3023, 1.0: 2047})\n",
      "42 54 2006.0 1 5 Counter({0.0: 3064, 1.0: 2006})\n",
      "48 61 1959.0 1 11 Counter({0.0: 3111, 1.0: 1959})\n",
      "48 61 1912.0 1 11 Counter({0.0: 3158, 1.0: 1912})\n",
      "140 169 1773.0 3 31 Counter({0.0: 3297, 1.0: 1773})\n",
      "54 68 1720.0 1 17 Counter({0.0: 3350, 1.0: 1720})\n",
      "82 101 1639.0 2 9 Counter({0.0: 3431, 1.0: 1639})\n",
      "82 101 1558.0 2 9 Counter({0.0: 3512, 1.0: 1558})\n",
      "100 122 1459.0 2 27 Counter({0.0: 3611, 1.0: 1459})\n",
      "42 54 1418.0 1 5 Counter({0.0: 3652, 1.0: 1418})\n",
      "88 108 1331.0 2 15 Counter({0.0: 3739, 1.0: 1331})\n",
      "42 54 1290.0 1 5 Counter({0.0: 3780, 1.0: 1290})\n",
      "48 61 1243.0 1 11 Counter({0.0: 3827, 1.0: 1243})\n",
      "48 61 1196.0 1 11 Counter({0.0: 3874, 1.0: 1196})\n",
      "42 54 1155.0 1 5 Counter({0.0: 3915, 1.0: 1155})\n",
      "36 47 1120.0 0 35 Counter({0.0: 3950, 1.0: 1120})\n",
      "36 47 1085.0 0 35 Counter({0.0: 3985, 1.0: 1085})\n",
      "36 47 1050.0 0 35 Counter({0.0: 4020, 1.0: 1050})\n",
      "36 47 1015.0 0 35 Counter({0.0: 4055, 1.0: 1015})\n",
      "36 47 980.0 0 35 Counter({0.0: 4090, 1.0: 980})\n",
      "36 47 945.0 0 35 Counter({0.0: 4125, 1.0: 945})\n",
      "36 47 910.0 0 35 Counter({0.0: 4160, 1.0: 910})\n",
      "36 47 875.0 0 35 Counter({0.0: 4195, 1.0: 875})\n",
      "36 47 840.0 0 35 Counter({0.0: 4230, 1.0: 840})\n",
      "36 47 805.0 0 35 Counter({0.0: 4265, 1.0: 805})\n",
      "36 47 770.0 0 35 Counter({0.0: 4300, 1.0: 770})\n",
      "36 47 735.0 0 35 Counter({0.0: 4335, 1.0: 735})\n",
      "36 47 700.0 0 35 Counter({0.0: 4370, 1.0: 700})\n",
      "36 47 665.0 0 35 Counter({0.0: 4405, 1.0: 665})\n",
      "36 47 630.0 0 35 Counter({0.0: 4440, 1.0: 630})\n",
      "36 47 595.0 0 35 Counter({0.0: 4475, 1.0: 595})\n",
      "36 47 560.0 0 35 Counter({0.0: 4510, 1.0: 560})\n",
      "36 47 525.0 0 35 Counter({0.0: 4545, 1.0: 525})\n",
      "36 47 490.0 0 35 Counter({0.0: 4580, 1.0: 490})\n",
      "36 47 455.0 0 35 Counter({0.0: 4615, 1.0: 455})\n",
      "36 47 420.0 0 35 Counter({0.0: 4650, 1.0: 420})\n",
      "36 47 385.0 0 35 Counter({0.0: 4685, 1.0: 385})\n",
      "36 47 350.0 0 35 Counter({0.0: 4720, 1.0: 350})\n",
      "36 47 315.0 0 35 Counter({0.0: 4755, 1.0: 315})\n",
      "36 47 280.0 0 35 Counter({0.0: 4790, 1.0: 280})\n",
      "36 47 245.0 0 35 Counter({0.0: 4825, 1.0: 245})\n",
      "36 47 210.0 0 35 Counter({0.0: 4860, 1.0: 210})\n",
      "36 47 175.0 0 35 Counter({0.0: 4895, 1.0: 175})\n",
      "36 47 140.0 0 35 Counter({0.0: 4930, 1.0: 140})\n",
      "36 47 105.0 0 35 Counter({0.0: 4965, 1.0: 105})\n",
      "36 47 70.0 0 35 Counter({0.0: 5000, 1.0: 70})\n",
      "36 47 35.0 0 35 Counter({0.0: 5035, 1.0: 35})\n",
      "36 47 0.0 0 35 Counter({0.0: 5070})\n"
     ]
    },
    {
     "data": {
      "text/plain": [
       "Counter({0.0: 5070})"
      ]
     },
     "execution_count": 33,
     "metadata": {},
     "output_type": "execute_result"
    }
   ],
   "source": [
    "all_cycles = [[], [], []]\n",
    "remaining = 1e6\n",
    "mandatory_start = [i for i in range(N) if s_start[i]]\n",
    "s_sol1 = s_sol.copy()\n",
    "\n",
    "for k in mandatory_start:\n",
    "    cycle, cost =  get_cycle(k, s_sol1, s_cost1, s_start, s_end)    \n",
    "    Cs = Counter(s_sol1.values())\n",
    "    remaining = np.sum([k*v for k,v in Cs.items()])    \n",
    "    all_cycles[p_class[k]].append(cycle)\n",
    "    print(len(cycle), cost, remaining, (len(cycle) - 1) // 36, (len(cycle) - 1) % 36, Cs)\n",
    "    if remaining == 0:\n",
    "        break\n",
    "\n",
    "Cs = Counter(s_sol1.values())\n",
    "Cs"
   ]
  },
  {
   "cell_type": "code",
   "execution_count": 34,
   "id": "c64d3485",
   "metadata": {},
   "outputs": [
    {
     "data": {
      "text/plain": [
       "[1720, 1720, 1720]"
      ]
     },
     "execution_count": 34,
     "metadata": {},
     "output_type": "execute_result"
    }
   ],
   "source": [
    "[np.sum([len(cycle) for cycle in all_cycles[i]]) for i in range(3)]"
   ]
  },
  {
   "cell_type": "code",
   "execution_count": 35,
   "id": "5a919870",
   "metadata": {},
   "outputs": [],
   "source": [
    "def get_concat(perms):\n",
    "    string = permutations[perms[0]]\n",
    "    \n",
    "    for j in perms[1:]:\n",
    "        p = permutations[j]\n",
    "        if p == string[-7:]:\n",
    "            string = string + p\n",
    "            continue\n",
    "        for i in range(1, 8):\n",
    "            if string[i-7:] == p[:-i]:\n",
    "                break\n",
    "        if i < 7:\n",
    "            string = string + p[-i:]\n",
    "        else:\n",
    "            string = string + p\n",
    "    return string"
   ]
  },
  {
   "cell_type": "code",
   "execution_count": 36,
   "id": "1a0312f7",
   "metadata": {},
   "outputs": [
    {
     "data": {
      "text/plain": [
       "[30, 30, 30]"
      ]
     },
     "execution_count": 36,
     "metadata": {},
     "output_type": "execute_result"
    }
   ],
   "source": [
    "cats = [[get_concat(cycle) for cycle in all_cycles[i]] for i in range(3)]\n",
    "[len(cat) for cat in cats]"
   ]
  },
  {
   "cell_type": "code",
   "execution_count": 37,
   "id": "97e6c2bd",
   "metadata": {},
   "outputs": [
    {
     "data": {
      "text/plain": [
       "[2160, 2160, 2160]"
      ]
     },
     "execution_count": 37,
     "metadata": {},
     "output_type": "execute_result"
    }
   ],
   "source": [
    "[np.sum([len(cat) for cat in catsi]) for catsi in cats]"
   ]
  },
  {
   "cell_type": "code",
   "execution_count": 38,
   "id": "0d5fc05a",
   "metadata": {},
   "outputs": [
    {
     "data": {
      "text/plain": [
       "2440"
      ]
     },
     "execution_count": 38,
     "metadata": {},
     "output_type": "execute_result"
    }
   ],
   "source": [
    "2160 + 40*7"
   ]
  },
  {
   "cell_type": "code",
   "execution_count": 39,
   "id": "8fdf1aa6",
   "metadata": {},
   "outputs": [
    {
     "data": {
      "text/plain": [
       "['123456712346572134657231465723416572346157234651723465',\n",
       " '123476512374652137465231746523714652374165237461523746',\n",
       " '123567412356472135647231564723516472356147235641723564127356412375641235764213576423157642351764235716423576142357612435761234576123547612357462135746231574623517462357146235741623574',\n",
       " '123745612375462137546231754623715462375146237541623754',\n",
       " '124367512346751236475123674512367541236574123654712364572136457231645723614572364157236451723645',\n",
       " '124375612347562134756231475623417562347156234751623475',\n",
       " '124536712453762145376241537624513762453176245371624537126453712465371245637214563724156372451637245613724563172456312745632174563271456327415632745163274561327456',\n",
       " '124635712436572143657241365724316572436157243651724365',\n",
       " '124753612745362174536271453627415362745136274531627453',\n",
       " '124756312457632145763241576324517632457163245761324576',\n",
       " '124763512473652147365241736524713652473165247361524736',\n",
       " '125346712354672135467231546723514672354167235461723546',\n",
       " '1253746125376412536742153674251367425316742536174253671425367',\n",
       " '126357412635472163547261354726315472635147263541726354127635412673542167354261735426713542673154267351426735',\n",
       " '1264375126347521634752613475263147526341752634715263471256347215634725163472561347256314725634172563412756341257634125673412563742156374251637425613742563174256371425637',\n",
       " '12736451273465127345612735462173546271354627315462735146273541627354',\n",
       " '12736541237654213765423176542371654237615423765142376512437652143765241376524317652437165243761524376',\n",
       " '12743651274356217435627143562741356274315627435162743512674352167435261743526714352674135267431526743',\n",
       " '127564312754631275436217543627154362751436275413627543162754312675432167543261754326715432675143267541326754',\n",
       " '12376452137645231764523716452376145237641523764',\n",
       " '12534762153476251347625314762534176253471625347',\n",
       " '12564732156473251647325614732564173256471325647',\n",
       " '12567432156743251674325617432567143256741325674',\n",
       " '12573462157346251734625713462573146257341625734',\n",
       " '12574632157463251746325714632574163257461325746',\n",
       " '12634572163457261345726314572634157263451726345',\n",
       " '12657342165734261573426517342657134265731426573',\n",
       " '12673452167345261734526713452673145267341526734',\n",
       " '12674532167453261745326714532674153267451326745',\n",
       " '12746352174635271463527416352746135274631527463']"
      ]
     },
     "execution_count": 39,
     "metadata": {},
     "output_type": "execute_result"
    }
   ],
   "source": [
    "cats[0]"
   ]
  },
  {
   "cell_type": "code",
   "execution_count": 40,
   "id": "562ed84c",
   "metadata": {},
   "outputs": [],
   "source": [
    "def get_perms(cat):\n",
    "    perms = [cat[i:i+7] for i in range(len(cat))]\n",
    "    perms = [p for p in perms if p in permutations]\n",
    "    return perms\n",
    "\n",
    "all_perms = [p for catsi in cats for cat in catsi for p in get_perms(cat)]"
   ]
  },
  {
   "cell_type": "code",
   "execution_count": 41,
   "id": "8fd2d726",
   "metadata": {},
   "outputs": [],
   "source": [
    "def get_string(cycles):\n",
    "    s = ''.join([get_concat(cycle) for cycle in cycles])\n",
    "    used = []\n",
    "    for cycle in cycles:\n",
    "        cycle = [permutations[i] for i in cycle]\n",
    "        used.extend(p for p in permutations1 if p in cycle)\n",
    "    s = s + ''.join([p for p in permutations1 if p not in used])\n",
    "    return s"
   ]
  },
  {
   "cell_type": "code",
   "execution_count": 42,
   "id": "974db026",
   "metadata": {},
   "outputs": [
    {
     "data": {
      "text/plain": [
       "[2440, 2440, 2440]"
      ]
     },
     "execution_count": 42,
     "metadata": {},
     "output_type": "execute_result"
    }
   ],
   "source": [
    "strings = [get_string(cycles) for cycles in all_cycles]\n",
    "[len(s) for s in strings]"
   ]
  },
  {
   "cell_type": "code",
   "execution_count": 43,
   "id": "ceb553fe",
   "metadata": {},
   "outputs": [],
   "source": [
    "perms = [get_perms(s) for s in strings]\n",
    "all_perms = [p for perm in perms for p in perm]"
   ]
  },
  {
   "cell_type": "code",
   "execution_count": 44,
   "id": "734fb7be",
   "metadata": {},
   "outputs": [
    {
     "data": {
      "text/plain": [
       "5915"
      ]
     },
     "execution_count": 44,
     "metadata": {},
     "output_type": "execute_result"
    }
   ],
   "source": [
    "len(all_perms)"
   ]
  },
  {
   "cell_type": "code",
   "execution_count": 45,
   "id": "bcc000ba",
   "metadata": {},
   "outputs": [],
   "source": [
    "for p in permutations:\n",
    "    if not p in all_perms:\n",
    "        print(p)"
   ]
  },
  {
   "cell_type": "code",
   "execution_count": 46,
   "id": "0f97b524",
   "metadata": {},
   "outputs": [],
   "source": [
    "for p in permutations1:\n",
    "    for perm in perms:\n",
    "        if not p in perm:\n",
    "            print(p)"
   ]
  },
  {
   "cell_type": "code",
   "execution_count": 47,
   "id": "d8376ea6",
   "metadata": {},
   "outputs": [],
   "source": [
    "def finalize(strings):\n",
    "    replace_dict = {\n",
    "        \"1\": '🎅', \n",
    "        \"2\": '🤶', \n",
    "        \"3\": '🦌', \n",
    "        \"4\": '🧝', \n",
    "        \"5\": '🎄', \n",
    "        \"6\": '🎁', \n",
    "        \"7\": '🎀', \n",
    "        \"*\": '🌟',\n",
    "    }\n",
    "    ans = strings.copy()\n",
    "    for i in range(3):\n",
    "        for k,v in replace_dict.items():\n",
    "            ans[i] = ans[i].replace(k, v)\n",
    "    return ans"
   ]
  },
  {
   "cell_type": "code",
   "execution_count": 48,
   "id": "24842c5d",
   "metadata": {},
   "outputs": [],
   "source": [
    "ans = finalize(strings)"
   ]
  },
  {
   "cell_type": "code",
   "execution_count": 49,
   "id": "631e5b64",
   "metadata": {},
   "outputs": [
    {
     "data": {
      "text/plain": [
       "['🎅🤶🦌🧝🎄🎁🎀🎅🤶🦌🧝🎁🎄🎀🤶🎅🦌🧝🎁🎄🎀🤶🦌🎅🧝🎁🎄🎀🤶🦌🧝🎅🎁🎄🎀🤶🦌🧝🎁🎅🎄🎀🤶🦌🧝🎁🎄🎅🎀🤶🦌🧝🎁🎄🎅🤶🦌🧝🎀🎁🎄🎅🤶🦌🎀🧝🎁🎄🤶🎅🦌🎀🧝🎁🎄🤶🦌🎅🎀🧝🎁🎄🤶🦌🎀🎅🧝🎁🎄🤶🦌🎀🧝🎅🎁🎄🤶🦌🎀🧝🎁🎅🎄🤶🦌🎀🧝🎁🎅🤶🦌🎄🎁🎀🧝🎅🤶🦌🎄🎁🧝🎀🤶🎅🦌🎄🎁🧝🎀🤶🦌🎅🎄🎁🧝🎀🤶🦌🎄🎅🎁🧝🎀🤶🦌🎄🎁🎅🧝🎀🤶🦌🎄🎁🧝🎅🎀🤶🦌🎄🎁🧝🎅🤶🎀🦌🎄🎁🧝🎅🤶🦌🎀🎄🎁🧝🎅🤶🦌🎄🎀🎁🧝🤶🎅🦌🎄🎀🎁🧝🤶🦌🎅🎄🎀🎁🧝🤶🦌🎄🎅🎀🎁🧝🤶🦌🎄🎀🎅🎁🧝🤶🦌🎄🎀🎁🎅🧝🤶🦌🎄🎀🎁🎅🤶🧝🦌🎄🎀🎁🎅🤶🦌🧝🎄🎀🎁🎅🤶🦌🎄🧝🎀🎁🎅🤶🦌🎄🎀🧝🎁🤶🎅🦌🎄🎀🧝🎁🤶🦌🎅🎄🎀🧝🎁🤶🦌🎄🎅🎀🧝🎁🤶🦌🎄🎀🎅🧝🎁🤶🦌🎄🎀🧝🎅🎁🤶🦌🎄🎀🧝🎅🤶🦌🎀🧝🎄🎁🎅🤶🦌🎀🎄🧝🎁🤶🎅🦌🎀🎄🧝🎁🤶🦌🎅🎀🎄🧝🎁🤶🦌🎀🎅🎄🧝🎁🤶🦌🎀🎄🎅🧝🎁🤶🦌🎀🎄🧝🎅🎁🤶🦌🎀🎄🧝🎅🤶🧝🦌🎁🎀🎄🎅🤶🦌🧝🎁🎀🎄🎅🤶🦌🎁🧝🎀🎄🎅🤶🦌🎁🎀🧝🎄🎅🤶🦌🎁🎀🎄🧝🎅🤶🦌🎁🎄🎀🧝🎅🤶🦌🎁🎄🧝🎀🎅🤶🦌🎁🧝🎄🎀🤶🎅🦌🎁🧝🎄🎀🤶🦌🎅🎁🧝🎄🎀🤶🦌🎁🎅🧝🎄🎀🤶🦌🎁🧝🎅🎄🎀🤶🦌🎁🧝🎄🎅🎀🤶🦌🎁🧝🎄🎅🤶🧝🦌🎀🎄🎁🎅🤶🦌🧝🎀🎄🎁🤶🎅🦌🧝🎀🎄🎁🤶🦌🎅🧝🎀🎄🎁🤶🦌🧝🎅🎀🎄🎁🤶🦌🧝🎀🎅🎄🎁🤶🦌🧝🎀🎄🎅🎁🤶🦌🧝🎀🎄🎅🤶🧝🎄🦌🎁🎀🎅🤶🧝🎄🦌🎀🎁🤶🎅🧝🎄🦌🎀🎁🤶🧝🎅🎄🦌🎀🎁🤶🧝🎄🎅🦌🎀🎁🤶🧝🎄🦌🎅🎀🎁🤶🧝🎄🦌🎀🎅🎁🤶🧝🎄🦌🎀🎅🤶🎁🧝🎄🦌🎀🎅🤶🧝🎁🎄🦌🎀🎅🤶🧝🎄🎁🦌🎀🤶🎅🧝🎄🎁🦌🎀🤶🧝🎅🎄🎁🦌🎀🤶🧝🎄🎅🎁🦌🎀🤶🧝🎄🎁🎅🦌🎀🤶🧝🎄🎁🦌🎅🎀🤶🧝🎄🎁🦌🎅🤶🎀🧝🎄🎁🦌🤶🎅🎀🧝🎄🎁🦌🤶🎀🎅🧝🎄🎁🦌🤶🎀🧝🎅🎄🎁🦌🤶🎀🧝🎄🎅🎁🦌🤶🎀🧝🎄🎁🎅🦌🤶🎀🧝🎄🎁🎅🤶🧝🎁🦌🎄🎀🎅🤶🧝🦌🎁🎄🎀🤶🎅🧝🦌🎁🎄🎀🤶🧝🎅🦌🎁🎄🎀🤶🧝🦌🎅🎁🎄🎀🤶🧝🦌🎁🎅🎄🎀🤶🧝🦌🎁🎄🎅🎀🤶🧝🦌🎁🎄🎅🤶🧝🎀🎄🦌🎁🎅🤶🎀🧝🎄🦌🎁🤶🎅🎀🧝🎄🦌🎁🤶🎀🎅🧝🎄🦌🎁🤶🎀🧝🎅🎄🦌🎁🤶🎀🧝🎄🎅🦌🎁🤶🎀🧝🎄🦌🎅🎁🤶🎀🧝🎄🦌🎅🤶🧝🎀🎄🎁🦌🎅🤶🧝🎄🎀🎁🦌🤶🎅🧝🎄🎀🎁🦌🤶🧝🎅🎄🎀🎁🦌🤶🧝🎄🎅🎀🎁🦌🤶🧝🎄🎀🎅🎁🦌🤶🧝🎄🎀🎁🎅🦌🤶🧝🎄🎀🎁🎅🤶🧝🎀🎁🦌🎄🎅🤶🧝🎀🦌🎁🎄🤶🎅🧝🎀🦌🎁🎄🤶🧝🎅🎀🦌🎁🎄🤶🧝🎀🎅🦌🎁🎄🤶🧝🎀🦌🎅🎁🎄🤶🧝🎀🦌🎁🎅🎄🤶🧝🎀🦌🎁🎅🤶🎄🦌🧝🎁🎀🎅🤶🦌🎄🧝🎁🎀🤶🎅🦌🎄🧝🎁🎀🤶🦌🎅🎄🧝🎁🎀🤶🦌🎄🎅🧝🎁🎀🤶🦌🎄🧝🎅🎁🎀🤶🦌🎄🧝🎁🎅🎀🤶🦌🎄🧝🎁🎅🤶🎄🦌🎀🧝🎁🎅🤶🎄🦌🎀🎁🧝🎅🤶🎄🦌🎁🎀🧝🤶🎅🎄🦌🎁🎀🧝🤶🎄🎅🦌🎁🎀🧝🤶🎄🦌🎅🎁🎀🧝🤶🎄🦌🎁🎅🎀🧝🤶🎄🦌🎁🎀🎅🧝🤶🎄🦌🎁🎀🎅🤶🎁🦌🎄🎀🧝🎅🤶🎁🦌🎄🧝🎀🤶🎅🎁🦌🎄🧝🎀🤶🎁🎅🦌🎄🧝🎀🤶🎁🦌🎅🎄🧝🎀🤶🎁🦌🎄🎅🧝🎀🤶🎁🦌🎄🧝🎅🎀🤶🎁🦌🎄🧝🎅🤶🎀🎁🦌🎄🧝🎅🤶🎁🎀🦌🎄🧝🤶🎅🎁🎀🦌🎄🧝🤶🎁🎅🎀🦌🎄🧝🤶🎁🎀🎅🦌🎄🧝🤶🎁🎀🦌🎅🎄🧝🤶🎁🎀🦌🎄🎅🧝🤶🎁🎀🦌🎄🎅🤶🎁🧝🦌🎀🎄🎅🤶🎁🦌🧝🎀🎄🤶🎅🎁🦌🧝🎀🎄🤶🎁🎅🦌🧝🎀🎄🤶🎁🦌🎅🧝🎀🎄🤶🎁🦌🧝🎅🎀🎄🤶🎁🦌🧝🎀🎅🎄🤶🎁🦌🧝🎀🎅🤶🎄🎁🦌🧝🎀🤶🎅🎄🎁🦌🧝🎀🤶🎄🎅🎁🦌🧝🎀🤶🎄🎁🎅🦌🧝🎀🤶🎄🎁🦌🎅🧝🎀🤶🎄🎁🦌🧝🎅🎀🤶🎄🎁🦌🧝🎅🤶🎀🎄🎁🦌🧝🎅🤶🎄🎀🎁🦌🧝🎅🤶🎄🎁🎀🦌🧝🎅🤶🎄🎁🦌🎀🧝🤶🎅🎄🎁🦌🎀🧝🤶🎄🎅🎁🦌🎀🧝🤶🎄🎁🎅🦌🎀🧝🤶🎄🎁🦌🎅🎀🧝🤶🎄🎁🦌🎀🎅🧝🤶🎄🎁🦌🎀🎅🤶🎀🦌🎁🧝🎄🎅🤶🎀🦌🧝🎁🎄🎅🤶🎀🦌🧝🎄🎁🎅🤶🎀🦌🎄🧝🎁🤶🎅🎀🦌🎄🧝🎁🤶🎀🎅🦌🎄🧝🎁🤶🎀🦌🎅🎄🧝🎁🤶🎀🦌🎄🎅🧝🎁🤶🎀🦌🎄🧝🎅🎁🤶🎀🦌🎄🧝🎅🤶🎀🦌🎁🎄🧝🎅🤶🦌🎀🎁🎄🧝🤶🎅🦌🎀🎁🎄🧝🤶🦌🎅🎀🎁🎄🧝🤶🦌🎀🎅🎁🎄🧝🤶🦌🎀🎁🎅🎄🧝🤶🦌🎀🎁🎄🎅🧝🤶🦌🎀🎁🎄🎅🤶🧝🦌🎀🎁🎄🤶🎅🧝🦌🎀🎁🎄🤶🧝🎅🦌🎀🎁🎄🤶🧝🦌🎅🎀🎁🎄🤶🧝🦌🎀🎅🎁🎄🤶🧝🦌🎀🎁🎅🎄🤶🧝🦌🎀🎁🎅🤶🎀🧝🦌🎁🎄🎅🤶🎀🧝🦌🎄🎁🤶🎅🎀🧝🦌🎄🎁🤶🎀🎅🧝🦌🎄🎁🤶🎀🧝🎅🦌🎄🎁🤶🎀🧝🦌🎅🎄🎁🤶🎀🧝🦌🎄🎅🎁🤶🎀🧝🦌🎄🎅🤶🎁🎀🧝🦌🎄🤶🎅🎁🎀🧝🦌🎄🤶🎁🎅🎀🧝🦌🎄🤶🎁🎀🎅🧝🦌🎄🤶🎁🎀🧝🎅🦌🎄🤶🎁🎀🧝🦌🎅🎄🤶🎁🎀🧝🦌🎅🤶🎀🎄🎁🧝🦌🎅🤶🎀🎄🧝🎁🦌🎅🤶🎀🎄🧝🦌🎁🤶🎅🎀🎄🧝🦌🎁🤶🎀🎅🎄🧝🦌🎁🤶🎀🎄🎅🧝🦌🎁🤶🎀🎄🧝🎅🦌🎁🤶🎀🎄🧝🦌🎅🎁🤶🎀🎄🧝🦌🎅🤶🎁🎀🎄🧝🦌🤶🎅🎁🎀🎄🧝🦌🤶🎁🎅🎀🎄🧝🦌🤶🎁🎀🎅🎄🧝🦌🤶🎁🎀🎄🎅🧝🦌🤶🎁🎀🎄🧝🎅🦌🤶🎁🎀🎄🧝🎅🤶🦌🎀🎁🧝🎄🤶🎅🦌🎀🎁🧝🎄🤶🦌🎅🎀🎁🧝🎄🤶🦌🎀🎅🎁🧝🎄🤶🦌🎀🎁🎅🧝🎄🤶🦌🎀🎁🧝🎅🎄🤶🦌🎀🎁🧝🎅🤶🎄🦌🧝🎀🎁🤶🎅🎄🦌🧝🎀🎁🤶🎄🎅🦌🧝🎀🎁🤶🎄🦌🎅🧝🎀🎁🤶🎄🦌🧝🎅🎀🎁🤶🎄🦌🧝🎀🎅🎁🤶🎄🦌🧝🎀🎅🤶🎄🎁🧝🎀🦌🤶🎅🎄🎁🧝🎀🦌🤶🎄🎅🎁🧝🎀🦌🤶🎄🎁🎅🧝🎀🦌🤶🎄🎁🧝🎅🎀🦌🤶🎄🎁🧝🎀🎅🦌🤶🎄🎁🧝🎀🎅🤶🎄🎁🎀🧝🦌🤶🎅🎄🎁🎀🧝🦌🤶🎄🎅🎁🎀🧝🦌🤶🎄🎁🎅🎀🧝🦌🤶🎄🎁🎀🎅🧝🦌🤶🎄🎁🎀🧝🎅🦌🤶🎄🎁🎀🧝🎅🤶🎄🎀🦌🧝🎁🤶🎅🎄🎀🦌🧝🎁🤶🎄🎅🎀🦌🧝🎁🤶🎄🎀🎅🦌🧝🎁🤶🎄🎀🦌🎅🧝🎁🤶🎄🎀🦌🧝🎅🎁🤶🎄🎀🦌🧝🎅🤶🎄🎀🧝🎁🦌🤶🎅🎄🎀🧝🎁🦌🤶🎄🎅🎀🧝🎁🦌🤶🎄🎀🎅🧝🎁🦌🤶🎄🎀🧝🎅🎁🦌🤶🎄🎀🧝🎁🎅🦌🤶🎄🎀🧝🎁🎅🤶🎁🦌🧝🎄🎀🤶🎅🎁🦌🧝🎄🎀🤶🎁🎅🦌🧝🎄🎀🤶🎁🦌🎅🧝🎄🎀🤶🎁🦌🧝🎅🎄🎀🤶🎁🦌🧝🎄🎅🎀🤶🎁🦌🧝🎄🎅🤶🎁🎄🎀🦌🧝🤶🎅🎁🎄🎀🦌🧝🤶🎁🎅🎄🎀🦌🧝🤶🎁🎄🎅🎀🦌🧝🤶🎁🎄🎀🎅🦌🧝🤶🎁🎄🎀🦌🎅🧝🤶🎁🎄🎀🦌🎅🤶🎁🎀🦌🧝🎄🤶🎅🎁🎀🦌🧝🎄🤶🎁🎅🎀🦌🧝🎄🤶🎁🎀🎅🦌🧝🎄🤶🎁🎀🦌🎅🧝🎄🤶🎁🎀🦌🧝🎅🎄🤶🎁🎀🦌🧝🎅🤶🎁🎀🧝🎄🦌🤶🎅🎁🎀🧝🎄🦌🤶🎁🎅🎀🧝🎄🦌🤶🎁🎀🎅🧝🎄🦌🤶🎁🎀🧝🎅🎄🦌🤶🎁🎀🧝🎄🎅🦌🤶🎁🎀🧝🎄🎅🤶🎀🧝🎁🦌🎄🤶🎅🎀🧝🎁🦌🎄🤶🎀🎅🧝🎁🦌🎄🤶🎀🧝🎅🎁🦌🎄🤶🎀🧝🎁🎅🦌🎄🤶🎀🧝🎁🦌🎅🎄🤶🎀🧝🎁🦌🎅🤶🧝🦌🎄🎁🎀🎅🤶🧝🎄🎁🎀🦌🎅🤶🧝🎄🎀🦌🎁🎅🤶🧝🎁🦌🎀🎄🎅🤶🧝🎁🎄🎀🦌🎅🤶🧝🎁🎀🦌🎄🎅🤶🧝🎁🎀🎄🦌🎅🤶🧝🎀🦌🎄🎁🎅🤶🧝🎀🎁🎄🦌🎅🤶🎄🦌🎁🧝🎀🎅🤶🎄🧝🦌🎁🎀🎅🤶🎄🧝🦌🎀🎁🎅🤶🎄🧝🎁🦌🎀🎅🤶🎄🧝🎁🎀🦌🎅🤶🎄🧝🎀🦌🎁🎅🤶🎄🧝🎀🎁🦌🎅🤶🎄🎁🧝🦌🎀🎅🤶🎄🎀🦌🎁🧝🎅🤶🎄🎀🧝🦌🎁🎅🤶🎄🎀🎁🧝🦌🎅🤶🎁🦌🎀🧝🎄🎅🤶🎁🦌🎀🎄🧝🎅🤶🎁🧝🦌🎄🎀🎅🤶🎁🧝🎄🎀🦌🎅🤶🎁🧝🎀🦌🎄🎅🤶🎁🧝🎀🎄🦌🎅🤶🎁🎄🦌🧝🎀🎅🤶🎁🎄🦌🎀🧝🎅🤶🎁🎄🧝🦌🎀🎅🤶🎁🎄🧝🎀🦌🎅🤶🎁🎄🎀🧝🦌🎅🤶🎁🎀🎄🦌🧝🎅🤶🎀🧝🎁🎄🦌🎅🤶🎀🎄🦌🧝🎁🎅🤶🎀🎄🦌🎁🧝🎅🤶🎀🎁🦌🧝🎄🎅🤶🎀🎁🧝🦌🎄🎅🤶🎀🎁🧝🎄🦌🎅🤶🎀🎁🎄🦌🧝🎅🤶🎀🎁🎄🧝🦌',\n",
       " '🎅🤶🦌🎄🧝🎁🎀🎅🤶🦌🧝🎄🎁🎀🤶🎅🦌🧝🎄🎁🎀🤶🦌🎅🧝🎄🎁🎀🤶🦌🧝🎅🎄🎁🎀🤶🦌🧝🎄🎅🎁🎀🤶🦌🧝🎄🎁🎅🎀🤶🦌🧝🎄🎁🎅🤶🦌🎄🎀🧝🎁🎅🤶🦌🎄🎀🎁🧝🎅🤶🦌🎄🎁🎀🧝🤶🎅🦌🎄🎁🎀🧝🤶🦌🎅🎄🎁🎀🧝🤶🦌🎄🎅🎁🎀🧝🤶🦌🎄🎁🎅🎀🧝🤶🦌🎄🎁🎀🎅🧝🤶🦌🎄🎁🎀🎅🤶🦌🎁🧝🎄🎀🎅🤶🦌🎁🧝🎀🎄🤶🎅🦌🎁🧝🎀🎄🤶🦌🎅🎁🧝🎀🎄🤶🦌🎁🎅🧝🎀🎄🤶🦌🎁🧝🎅🎀🎄🤶🦌🎁🧝🎀🎅🎄🤶🦌🎁🧝🎀🎅🤶🎄🦌🎁🧝🎀🤶🎅🎄🦌🎁🧝🎀🤶🎄🎅🦌🎁🧝🎀🤶🎄🦌🎅🎁🧝🎀🤶🎄🦌🎁🎅🧝🎀🤶🎄🦌🎁🧝🎅🎀🤶🎄🦌🎁🧝🎅🤶🎀🎄🦌🎁🧝🤶🎅🎀🎄🦌🎁🧝🤶🎀🎅🎄🦌🎁🧝🤶🎀🎄🎅🦌🎁🧝🤶🎀🎄🦌🎅🎁🧝🤶🎀🎄🦌🎁🎅🧝🤶🎀🎄🦌🎁🎅🤶🧝🎀🎄🦌🎁🤶🎅🧝🎀🎄🦌🎁🤶🧝🎅🎀🎄🦌🎁🤶🧝🎀🎅🎄🦌🎁🤶🧝🎀🎄🎅🦌🎁🤶🧝🎀🎄🦌🎅🎁🤶🧝🎀🎄🦌🎅🤶🦌🎀🎄🧝🎁🎅🤶🦌🎀🎄🎁🧝🤶🎅🦌🎀🎄🎁🧝🤶🦌🎅🎀🎄🎁🧝🤶🦌🎀🎅🎄🎁🧝🤶🦌🎀🎄🎅🎁🧝🤶🦌🎀🎄🎁🎅🧝🤶🦌🎀🎄🎁🎅🤶🧝🦌🎀🎄🎁🤶🎅🧝🦌🎀🎄🎁🤶🧝🎅🦌🎀🎄🎁🤶🧝🦌🎅🎀🎄🎁🤶🧝🦌🎀🎅🎄🎁🤶🧝🦌🎀🎄🎅🎁🤶🧝🦌🎀🎄🎅🤶🧝🦌🎄🎁🎀🎅🤶🧝🦌🎄🎀🎁🤶🎅🧝🦌🎄🎀🎁🤶🧝🎅🦌🎄🎀🎁🤶🧝🦌🎅🎄🎀🎁🤶🧝🦌🎄🎅🎀🎁🤶🧝🦌🎄🎀🎅🎁🤶🧝🦌🎄🎀🎅🤶🎁🧝🦌🎄🎀🎅🤶🧝🎁🦌🎄🎀🤶🎅🧝🎁🦌🎄🎀🤶🧝🎅🎁🦌🎄🎀🤶🧝🎁🎅🦌🎄🎀🤶🧝🎁🦌🎅🎄🎀🤶🧝🎁🦌🎄🎅🎀🤶🧝🎁🦌🎄🎅🤶🧝🦌🎀🎁🎄🎅🤶🦌🧝🎀🎁🎄🤶🎅🦌🧝🎀🎁🎄🤶🦌🎅🧝🎀🎁🎄🤶🦌🧝🎅🎀🎁🎄🤶🦌🧝🎀🎅🎁🎄🤶🦌🧝🎀🎁🎅🎄🤶🦌🧝🎀🎁🎅🤶🧝🎄🎀🦌🎁🎅🤶🎄🧝🎀🦌🎁🤶🎅🎄🧝🎀🦌🎁🤶🎄🎅🧝🎀🦌🎁🤶🎄🧝🎅🎀🦌🎁🤶🎄🧝🎀🎅🦌🎁🤶🎄🧝🎀🦌🎅🎁🤶🎄🧝🎀🦌🎅🤶🎁🎄🧝🎀🦌🤶🎅🎁🎄🧝🎀🦌🤶🎁🎅🎄🧝🎀🦌🤶🎁🎄🎅🧝🎀🦌🤶🎁🎄🧝🎅🎀🦌🤶🎁🎄🧝🎀🎅🦌🤶🎁🎄🧝🎀🎅🤶🧝🎁🎄🎀🦌🎅🤶🧝🎁🎄🦌🎀🤶🎅🧝🎁🎄🦌🎀🤶🧝🎅🎁🎄🦌🎀🤶🧝🎁🎅🎄🦌🎀🤶🧝🎁🎄🎅🦌🎀🤶🧝🎁🎄🦌🎅🎀🤶🧝🎁🎄🦌🎅🤶🎀🧝🎁🎄🦌🎅🤶🧝🎀🎁🎄🦌🤶🎅🧝🎀🎁🎄🦌🤶🧝🎅🎀🎁🎄🦌🤶🧝🎀🎅🎁🎄🦌🤶🧝🎀🎁🎅🎄🦌🤶🧝🎀🎁🎄🎅🦌🤶🧝🎀🎁🎄🎅🤶🧝🎁🎀🦌🎄🎅🤶🧝🎀🎁🦌🎄🤶🎅🧝🎀🎁🦌🎄🤶🧝🎅🎀🎁🦌🎄🤶🧝🎀🎅🎁🦌🎄🤶🧝🎀🎁🎅🦌🎄🤶🧝🎀🎁🦌🎅🎄🤶🧝🎀🎁🦌🎅🤶🧝🎀🦌🎁🎄🎅🤶🧝🎀🦌🎄🎁🤶🎅🧝🎀🦌🎄🎁🤶🧝🎅🎀🦌🎄🎁🤶🧝🎀🎅🦌🎄🎁🤶🧝🎀🦌🎅🎄🎁🤶🧝🎀🦌🎄🎅🎁🤶🧝🎀🦌🎄🎅🤶🎁🧝🎀🦌🎄🤶🎅🎁🧝🎀🦌🎄🤶🎁🎅🧝🎀🦌🎄🤶🎁🧝🎅🎀🦌🎄🤶🎁🧝🎀🎅🦌🎄🤶🎁🧝🎀🦌🎅🎄🤶🎁🧝🎀🦌🎅🤶🎄🧝🎁🎀🦌🎅🤶🎄🧝🎀🎁🦌🤶🎅🎄🧝🎀🎁🦌🤶🎄🎅🧝🎀🎁🦌🤶🎄🧝🎅🎀🎁🦌🤶🎄🧝🎀🎅🎁🦌🤶🎄🧝🎀🎁🎅🦌🤶🎄🧝🎀🎁🎅🤶🎄🎁🦌🎀🧝🎅🤶🎄🎁🦌🧝🎀🎅🤶🎁🎄🦌🧝🎀🤶🎅🎁🎄🦌🧝🎀🤶🎁🎅🎄🦌🧝🎀🤶🎁🎄🎅🦌🧝🎀🤶🎁🎄🦌🎅🧝🎀🤶🎁🎄🦌🧝🎅🎀🤶🎁🎄🦌🧝🎅🤶🎀🎁🎄🦌🧝🤶🎅🎀🎁🎄🦌🧝🤶🎀🎅🎁🎄🦌🧝🤶🎀🎁🎅🎄🦌🧝🤶🎀🎁🎄🎅🦌🧝🤶🎀🎁🎄🦌🎅🧝🤶🎀🎁🎄🦌🎅🤶🎁🎄🧝🦌🎀🎅🤶🎄🎁🧝🦌🎀🎅🤶🎄🧝🎁🦌🎀🎅🤶🎄🧝🦌🎁🎀🤶🎅🎄🧝🦌🎁🎀🤶🎄🎅🧝🦌🎁🎀🤶🎄🧝🎅🦌🎁🎀🤶🎄🧝🦌🎅🎁🎀🤶🎄🧝🦌🎁🎅🎀🤶🎄🧝🦌🎁🎅🤶🎁🎄🎀🧝🦌🎅🤶🎄🎁🎀🧝🦌🎅🤶🎄🎀🎁🧝🦌🎅🤶🎄🎀🧝🎁🦌🎅🤶🎄🎀🧝🦌🎁🎅🤶🎄🎀🦌🧝🎁🎅🤶🎄🎀🦌🎁🧝🎅🤶🎄🦌🎀🎁🧝🤶🎅🎄🦌🎀🎁🧝🤶🎄🎅🦌🎀🎁🧝🤶🎄🦌🎅🎀🎁🧝🤶🎄🦌🎀🎅🎁🧝🤶🎄🦌🎀🎁🎅🧝🤶🎄🦌🎀🎁🎅🤶🧝🎄🦌🎀🎁🎅🤶🎄🧝🦌🎀🎁🎅🤶🎄🦌🧝🎀🎁🎅🤶🎄🦌🎀🧝🎁🤶🎅🎄🦌🎀🧝🎁🤶🎄🎅🦌🎀🧝🎁🤶🎄🦌🎅🎀🧝🎁🤶🎄🦌🎀🎅🧝🎁🤶🎄🦌🎀🧝🎅🎁🤶🎄🦌🎀🧝🎅🤶🎁🎀🦌🎄🧝🎅🤶🎁🦌🎀🎄🧝🎅🤶🎁🦌🎄🎀🧝🤶🎅🎁🦌🎄🎀🧝🤶🎁🎅🦌🎄🎀🧝🤶🎁🦌🎅🎄🎀🧝🤶🎁🦌🎄🎅🎀🧝🤶🎁🦌🎄🎀🎅🧝🤶🎁🦌🎄🎀🎅🤶🎁🎀🎄🦌🧝🎅🤶🎁🎄🎀🦌🧝🎅🤶🎁🎄🦌🎀🧝🤶🎅🎁🎄🦌🎀🧝🤶🎁🎅🎄🦌🎀🧝🤶🎁🎄🎅🦌🎀🧝🤶🎁🎄🦌🎅🎀🧝🤶🎁🎄🦌🎀🎅🧝🤶🎁🎄🦌🎀🎅🤶🎁🎀🎄🧝🦌🎅🤶🎀🎁🎄🧝🦌🎅🤶🎀🎄🎁🧝🦌🤶🎅🎀🎄🎁🧝🦌🤶🎀🎅🎄🎁🧝🦌🤶🎀🎄🎅🎁🧝🦌🤶🎀🎄🎁🎅🧝🦌🤶🎀🎄🎁🧝🎅🦌🤶🎀🎄🎁🧝🎅🤶🎀🎁🦌🧝🎄🎅🤶🎀🦌🎁🧝🎄🤶🎅🎀🦌🎁🧝🎄🤶🎀🎅🦌🎁🧝🎄🤶🎀🦌🎅🎁🧝🎄🤶🎀🦌🎁🎅🧝🎄🤶🎀🦌🎁🧝🎅🎄🤶🎀🦌🎁🧝🎅🤶🎀🎁🧝🦌🎄🎅🤶🎀🧝🎁🦌🎄🎅🤶🎀🧝🦌🎁🎄🤶🎅🎀🧝🦌🎁🎄🤶🎀🎅🧝🦌🎁🎄🤶🎀🧝🎅🦌🎁🎄🤶🎀🧝🦌🎅🎁🎄🤶🎀🧝🦌🎁🎅🎄🤶🎀🧝🦌🎁🎅🤶🎀🎁🧝🎄🦌🎅🤶🎁🎀🧝🎄🦌🎅🤶🎁🧝🎀🎄🦌🤶🎅🎁🧝🎀🎄🦌🤶🎁🎅🧝🎀🎄🦌🤶🎁🧝🎅🎀🎄🦌🤶🎁🧝🎀🎅🎄🦌🤶🎁🧝🎀🎄🎅🦌🤶🎁🧝🎀🎄🎅🤶🦌🎁🎀🧝🎄🤶🎅🦌🎁🎀🧝🎄🤶🦌🎅🎁🎀🧝🎄🤶🦌🎁🎅🎀🧝🎄🤶🦌🎁🎀🎅🧝🎄🤶🦌🎁🎀🧝🎅🎄🤶🦌🎁🎀🧝🎅🤶🧝🎄🎁🎀🦌🤶🎅🧝🎄🎁🎀🦌🤶🧝🎅🎄🎁🎀🦌🤶🧝🎄🎅🎁🎀🦌🤶🧝🎄🎁🎅🎀🦌🤶🧝🎄🎁🎀🎅🦌🤶🧝🎄🎁🎀🎅🤶🧝🎁🦌🎀🎄🤶🎅🧝🎁🦌🎀🎄🤶🧝🎅🎁🦌🎀🎄🤶🧝🎁🎅🦌🎀🎄🤶🧝🎁🦌🎅🎀🎄🤶🧝🎁🦌🎀🎅🎄🤶🧝🎁🦌🎀🎅🤶🧝🎁🎀🎄🦌🤶🎅🧝🎁🎀🎄🦌🤶🧝🎅🎁🎀🎄🦌🤶🧝🎁🎅🎀🎄🦌🤶🧝🎁🎀🎅🎄🦌🤶🧝🎁🎀🎄🎅🦌🤶🧝🎁🎀🎄🎅🤶🎄🎀🎁🦌🧝🤶🎅🎄🎀🎁🦌🧝🤶🎄🎅🎀🎁🦌🧝🤶🎄🎀🎅🎁🦌🧝🤶🎄🎀🎁🎅🦌🧝🤶🎄🎀🎁🦌🎅🧝🤶🎄🎀🎁🦌🎅🤶🎁🦌🎀🧝🎄🤶🎅🎁🦌🎀🧝🎄🤶🎁🎅🦌🎀🧝🎄🤶🎁🦌🎅🎀🧝🎄🤶🎁🦌🎀🎅🧝🎄🤶🎁🦌🎀🧝🎅🎄🤶🎁🦌🎀🧝🎅🤶🎁🧝🎄🎀🦌🤶🎅🎁🧝🎄🎀🦌🤶🎁🎅🧝🎄🎀🦌🤶🎁🧝🎅🎄🎀🦌🤶🎁🧝🎄🎅🎀🦌🤶🎁🧝🎄🎀🎅🦌🤶🎁🧝🎄🎀🎅🤶🎀🎄🦌🧝🎁🤶🎅🎀🎄🦌🧝🎁🤶🎀🎅🎄🦌🧝🎁🤶🎀🎄🎅🦌🧝🎁🤶🎀🎄🦌🎅🧝🎁🤶🎀🎄🦌🧝🎅🎁🤶🎀🎄🦌🧝🎅🤶🎀🎄🧝🎁🦌🤶🎅🎀🎄🧝🎁🦌🤶🎀🎅🎄🧝🎁🦌🤶🎀🎄🎅🧝🎁🦌🤶🎀🎄🧝🎅🎁🦌🤶🎀🎄🧝🎁🎅🦌🤶🎀🎄🧝🎁🎅🤶🎀🎄🎁🦌🧝🤶🎅🎀🎄🎁🦌🧝🤶🎀🎅🎄🎁🦌🧝🤶🎀🎄🎅🎁🦌🧝🤶🎀🎄🎁🎅🦌🧝🤶🎀🎄🎁🦌🎅🧝🤶🎀🎄🎁🦌🎅🤶🦌🧝🎄🎀🎁🎅🤶🦌🧝🎁🎄🎀🎅🤶🦌🧝🎁🎀🎄🎅🤶🦌🧝🎀🎄🎁🎅🤶🦌🎄🧝🎀🎁🎅🤶🦌🎄🎁🧝🎀🎅🤶🦌🎁🎄🧝🎀🎅🤶🦌🎁🎄🎀🧝🎅🤶🦌🎁🎀🎄🧝🎅🤶🦌🎀🧝🎄🎁🎅🤶🦌🎀🧝🎁🎄🎅🤶🦌🎀🎁🧝🎄🎅🤶🦌🎀🎁🎄🧝🎅🤶🧝🦌🎁🎄🎀🎅🤶🧝🦌🎁🎀🎄🎅🤶🧝🎄🦌🎁🎀🎅🤶🧝🎄🎁🦌🎀🎅🤶🧝🎄🎀🎁🦌🎅🤶🧝🎀🎄🎁🦌🎅🤶🎄🦌🧝🎁🎀🎅🤶🎄🦌🎁🎀🧝🎅🤶🎄🎁🧝🎀🦌🎅🤶🎄🎁🎀🦌🧝🎅🤶🎁🦌🧝🎄🎀🎅🤶🎁🦌🧝🎀🎄🎅🤶🎁🦌🎄🧝🎀🎅🤶🎁🧝🦌🎀🎄🎅🤶🎁🧝🎄🦌🎀🎅🤶🎁🎀🦌🧝🎄🎅🤶🎁🎀🧝🦌🎄🎅🤶🎀🦌🧝🎄🎁🎅🤶🎀🦌🧝🎁🎄🎅🤶🎀🦌🎄🧝🎁🎅🤶🎀🦌🎄🎁🧝🎅🤶🎀🦌🎁🎄🧝🎅🤶🎀🧝🦌🎄🎁🎅🤶🎀🧝🎄🦌🎁🎅🤶🎀🧝🎄🎁🦌🎅🤶🎀🎄🧝🦌🎁🎅🤶🎀🎁🦌🎄🧝',\n",
       " '🎅🤶🦌🧝🎁🎄🎀🎅🤶🦌🧝🎁🎀🎄🤶🎅🦌🧝🎁🎀🎄🤶🦌🎅🧝🎁🎀🎄🤶🦌🧝🎅🎁🎀🎄🤶🦌🧝🎁🎅🎀🎄🤶🦌🧝🎁🎀🎅🎄🤶🦌🧝🎁🎀🎅🤶🎄🦌🧝🎁🎀🤶🎅🎄🦌🧝🎁🎀🤶🎄🎅🦌🧝🎁🎀🤶🎄🦌🎅🧝🎁🎀🤶🎄🦌🧝🎅🎁🎀🤶🎄🦌🧝🎁🎅🎀🤶🎄🦌🧝🎁🎅🤶🦌🧝🎀🎄🎁🎅🤶🦌🎀🧝🎄🎁🤶🎅🦌🎀🧝🎄🎁🤶🦌🎅🎀🧝🎄🎁🤶🦌🎀🎅🧝🎄🎁🤶🦌🎀🧝🎅🎄🎁🤶🦌🎀🧝🎄🎅🎁🤶🦌🎀🧝🎄🎅🤶🦌🎀🧝🎁🎄🎅🤶🦌🎀🎁🧝🎄🎅🤶🦌🎀🎁🎄🧝🎅🤶🦌🎁🎀🎄🧝🤶🎅🦌🎁🎀🎄🧝🤶🦌🎅🎁🎀🎄🧝🤶🦌🎁🎅🎀🎄🧝🤶🦌🎁🎀🎅🎄🧝🤶🦌🎁🎀🎄🎅🧝🤶🦌🎁🎀🎄🎅🤶🧝🦌🎁🎀🎄🤶🎅🧝🦌🎁🎀🎄🤶🧝🎅🦌🎁🎀🎄🤶🧝🦌🎅🎁🎀🎄🤶🧝🦌🎁🎅🎀🎄🤶🧝🦌🎁🎀🎅🎄🤶🧝🦌🎁🎀🎅🤶🧝🦌🎁🎄🎀🎅🤶🧝🦌🎄🎁🎀🤶🎅🧝🦌🎄🎁🎀🤶🧝🎅🦌🎄🎁🎀🤶🧝🦌🎅🎄🎁🎀🤶🧝🦌🎄🎅🎁🎀🤶🧝🦌🎄🎁🎅🎀🤶🧝🦌🎄🎁🎅🤶🧝🎄🎀🎁🦌🎅🤶🧝🎄🎁🎀🦌🎅🤶🧝🎄🎁🦌🎀🎅🤶🧝🎄🦌🎁🎀🤶🎅🧝🎄🦌🎁🎀🤶🧝🎅🎄🦌🎁🎀🤶🧝🎄🎅🦌🎁🎀🤶🧝🎄🦌🎅🎁🎀🤶🧝🎄🦌🎁🎅🎀🤶🧝🎄🦌🎁🎅🤶🧝🎀🎁🎄🦌🎅🤶🧝🎁🎀🎄🦌🎅🤶🧝🎁🎄🎀🦌🤶🎅🧝🎁🎄🎀🦌🤶🧝🎅🎁🎄🎀🦌🤶🧝🎁🎅🎄🎀🦌🤶🧝🎁🎄🎅🎀🦌🤶🧝🎁🎄🎀🎅🦌🤶🧝🎁🎄🎀🎅🤶🎄🦌🎁🎀🧝🎅🤶🎄🦌🎁🧝🎀🎅🤶🦌🎄🎁🧝🎀🎅🤶🦌🎁🎄🧝🎀🤶🎅🦌🎁🎄🧝🎀🤶🦌🎅🎁🎄🧝🎀🤶🦌🎁🎅🎄🧝🎀🤶🦌🎁🎄🎅🧝🎀🤶🦌🎁🎄🧝🎅🎀🤶🦌🎁🎄🧝🎅🤶🎀🦌🎁🎄🧝🤶🎅🎀🦌🎁🎄🧝🤶🎀🎅🦌🎁🎄🧝🤶🎀🦌🎅🎁🎄🧝🤶🎀🦌🎁🎅🎄🧝🤶🎀🦌🎁🎄🎅🧝🤶🎀🦌🎁🎄🎅🤶🎄🧝🦌🎁🎀🎅🤶🎄🧝🦌🎀🎁🤶🎅🎄🧝🦌🎀🎁🤶🎄🎅🧝🦌🎀🎁🤶🎄🧝🎅🦌🎀🎁🤶🎄🧝🦌🎅🎀🎁🤶🎄🧝🦌🎀🎅🎁🤶🎄🧝🦌🎀🎅🤶🎁🎄🧝🦌🎀🤶🎅🎁🎄🧝🦌🎀🤶🎁🎅🎄🧝🦌🎀🤶🎁🎄🎅🧝🦌🎀🤶🎁🎄🧝🎅🦌🎀🤶🎁🎄🧝🦌🎅🎀🤶🎁🎄🧝🦌🎅🤶🎄🧝🎀🎁🦌🎅🤶🎄🧝🎀🦌🎁🎅🤶🎄🎀🧝🦌🎁🤶🎅🎄🎀🧝🦌🎁🤶🎄🎅🎀🧝🦌🎁🤶🎄🎀🎅🧝🦌🎁🤶🎄🎀🧝🎅🦌🎁🤶🎄🎀🧝🦌🎅🎁🤶🎄🎀🧝🦌🎅🤶🎁🎄🎀🧝🦌🤶🎅🎁🎄🎀🧝🦌🤶🎁🎅🎄🎀🧝🦌🤶🎁🎄🎅🎀🧝🦌🤶🎁🎄🎀🎅🧝🦌🤶🎁🎄🎀🧝🎅🦌🤶🎁🎄🎀🧝🎅🤶🎁🧝🎀🦌🎄🎅🤶🧝🎁🎀🦌🎄🤶🎅🧝🎁🎀🦌🎄🤶🧝🎅🎁🎀🦌🎄🤶🧝🎁🎅🎀🦌🎄🤶🧝🎁🎀🎅🦌🎄🤶🧝🎁🎀🦌🎅🎄🤶🧝🎁🎀🦌🎅🤶🎁🧝🎀🎄🦌🎅🤶🎁🧝🎄🎀🦌🎅🤶🎁🧝🎄🦌🎀🤶🎅🎁🧝🎄🦌🎀🤶🎁🎅🧝🎄🦌🎀🤶🎁🧝🎅🎄🦌🎀🤶🎁🧝🎄🎅🦌🎀🤶🎁🧝🎄🦌🎅🎀🤶🎁🧝🎄🦌🎅🤶🎀🎁🧝🎄🦌🤶🎅🎀🎁🧝🎄🦌🤶🎀🎅🎁🧝🎄🦌🤶🎀🎁🎅🧝🎄🦌🤶🎀🎁🧝🎅🎄🦌🤶🎀🎁🧝🎄🎅🦌🤶🎀🎁🧝🎄🎅🤶🎁🎄🦌🎀🧝🎅🤶🎁🎄🦌🧝🎀🎅🤶🎁🦌🎄🧝🎀🎅🤶🎁🦌🧝🎄🎀🎅🤶🎁🦌🧝🎀🎄🎅🤶🎁🦌🎀🧝🎄🎅🤶🎁🦌🎀🎄🧝🤶🎅🎁🦌🎀🎄🧝🤶🎁🎅🦌🎀🎄🧝🤶🎁🦌🎅🎀🎄🧝🤶🎁🦌🎀🎅🎄🧝🤶🎁🦌🎀🎄🎅🧝🤶🎁🦌🎀🎄🎅🤶🧝🎁🦌🎀🎄🎅🤶🎁🧝🦌🎀🎄🤶🎅🎁🧝🦌🎀🎄🤶🎁🎅🧝🦌🎀🎄🤶🎁🧝🎅🦌🎀🎄🤶🎁🧝🦌🎅🎀🎄🤶🎁🧝🦌🎀🎅🎄🤶🎁🧝🦌🎀🎅🤶🎁🎄🧝🎀🦌🎅🤶🎄🎁🧝🎀🦌🎅🤶🎄🧝🎁🎀🦌🤶🎅🎄🧝🎁🎀🦌🤶🎄🎅🧝🎁🎀🦌🤶🎄🧝🎅🎁🎀🦌🤶🎄🧝🎁🎅🎀🦌🤶🎄🧝🎁🎀🎅🦌🤶🎄🧝🎁🎀🎅🤶🎁🎀🧝🦌🎄🎅🤶🎀🎁🧝🦌🎄🤶🎅🎀🎁🧝🦌🎄🤶🎀🎅🎁🧝🦌🎄🤶🎀🎁🎅🧝🦌🎄🤶🎀🎁🧝🎅🦌🎄🤶🎀🎁🧝🦌🎅🎄🤶🎀🎁🧝🦌🎅🤶🎀🦌🎄🧝🎁🎅🤶🎀🦌🎄🎁🧝🤶🎅🎀🦌🎄🎁🧝🤶🎀🎅🦌🎄🎁🧝🤶🎀🦌🎅🎄🎁🧝🤶🎀🦌🎄🎅🎁🧝🤶🎀🦌🎄🎁🎅🧝🤶🎀🦌🎄🎁🎅🤶🧝🎀🦌🎄🎁🎅🤶🎀🧝🦌🎄🎁🎅🤶🎀🦌🧝🎄🎁🤶🎅🎀🦌🧝🎄🎁🤶🎀🎅🦌🧝🎄🎁🤶🎀🦌🎅🧝🎄🎁🤶🎀🦌🧝🎅🎄🎁🤶🎀🦌🧝🎄🎅🎁🤶🎀🦌🧝🎄🎅🤶🎁🎀🦌🧝🎄🎅🤶🎀🎁🦌🧝🎄🤶🎅🎀🎁🦌🧝🎄🤶🎀🎅🎁🦌🧝🎄🤶🎀🎁🎅🦌🧝🎄🤶🎀🎁🦌🎅🧝🎄🤶🎀🎁🦌🧝🎅🎄🤶🎀🎁🦌🧝🎅🤶🎀🧝🎄🦌🎁🎅🤶🎀🎄🧝🦌🎁🎅🤶🎀🎄🦌🧝🎁🎅🤶🎀🎄🦌🎁🧝🎅🤶🎄🎀🦌🎁🧝🤶🎅🎄🎀🦌🎁🧝🤶🎄🎅🎀🦌🎁🧝🤶🎄🎀🎅🦌🎁🧝🤶🎄🎀🦌🎅🎁🧝🤶🎄🎀🦌🎁🎅🧝🤶🎄🎀🦌🎁🎅🤶🧝🎄🎀🦌🎁🤶🎅🧝🎄🎀🦌🎁🤶🧝🎅🎄🎀🦌🎁🤶🧝🎄🎅🎀🦌🎁🤶🧝🎄🎀🎅🦌🎁🤶🧝🎄🎀🦌🎅🎁🤶🧝🎄🎀🦌🎅🤶🎀🧝🎄🎁🦌🎅🤶🧝🎀🎄🎁🦌🤶🎅🧝🎀🎄🎁🦌🤶🧝🎅🎀🎄🎁🦌🤶🧝🎀🎅🎄🎁🦌🤶🧝🎀🎄🎅🎁🦌🤶🧝🎀🎄🎁🎅🦌🤶🧝🎀🎄🎁🎅🤶🎀🎁🎄🦌🧝🎅🤶🎁🎀🎄🦌🧝🤶🎅🎁🎀🎄🦌🧝🤶🎁🎅🎀🎄🦌🧝🤶🎁🎀🎅🎄🦌🧝🤶🎁🎀🎄🎅🦌🧝🤶🎁🎀🎄🦌🎅🧝🤶🎁🎀🎄🦌🎅🤶🦌🧝🎄🎀🎁🤶🎅🦌🧝🎄🎀🎁🤶🦌🎅🧝🎄🎀🎁🤶🦌🧝🎅🎄🎀🎁🤶🦌🧝🎄🎅🎀🎁🤶🦌🧝🎄🎀🎅🎁🤶🦌🧝🎄🎀🎅🤶🦌🎄🧝🎀🎁🤶🎅🦌🎄🧝🎀🎁🤶🦌🎅🎄🧝🎀🎁🤶🦌🎄🎅🧝🎀🎁🤶🦌🎄🧝🎅🎀🎁🤶🦌🎄🧝🎀🎅🎁🤶🦌🎄🧝🎀🎅🤶🦌🎁🎄🎀🧝🤶🎅🦌🎁🎄🎀🧝🤶🦌🎅🎁🎄🎀🧝🤶🦌🎁🎅🎄🎀🧝🤶🦌🎁🎄🎅🎀🧝🤶🦌🎁🎄🎀🎅🧝🤶🦌🎁🎄🎀🎅🤶🎄🧝🎁🦌🎀🤶🎅🎄🧝🎁🦌🎀🤶🎄🎅🧝🎁🦌🎀🤶🎄🧝🎅🎁🦌🎀🤶🎄🧝🎁🎅🦌🎀🤶🎄🧝🎁🦌🎅🎀🤶🎄🧝🎁🦌🎅🤶🎄🎁🧝🦌🎀🤶🎅🎄🎁🧝🦌🎀🤶🎄🎅🎁🧝🦌🎀🤶🎄🎁🎅🧝🦌🎀🤶🎄🎁🧝🎅🦌🎀🤶🎄🎁🧝🦌🎅🎀🤶🎄🎁🧝🦌🎅🤶🎄🎁🎀🦌🧝🤶🎅🎄🎁🎀🦌🧝🤶🎄🎅🎁🎀🦌🧝🤶🎄🎁🎅🎀🦌🧝🤶🎄🎁🎀🎅🦌🧝🤶🎄🎁🎀🦌🎅🧝🤶🎄🎁🎀🦌🎅🤶🎄🎀🎁🧝🦌🤶🎅🎄🎀🎁🧝🦌🤶🎄🎅🎀🎁🧝🦌🤶🎄🎀🎅🎁🧝🦌🤶🎄🎀🎁🎅🧝🦌🤶🎄🎀🎁🧝🎅🦌🤶🎄🎀🎁🧝🎅🤶🎁🧝🦌🎄🎀🤶🎅🎁🧝🦌🎄🎀🤶🎁🎅🧝🦌🎄🎀🤶🎁🧝🎅🦌🎄🎀🤶🎁🧝🦌🎅🎄🎀🤶🎁🧝🦌🎄🎅🎀🤶🎁🧝🦌🎄🎅🤶🎀🦌🧝🎁🎄🤶🎅🎀🦌🧝🎁🎄🤶🎀🎅🦌🧝🎁🎄🤶🎀🦌🎅🧝🎁🎄🤶🎀🦌🧝🎅🎁🎄🤶🎀🦌🧝🎁🎅🎄🤶🎀🦌🧝🎁🎅🤶🎀🧝🎁🎄🦌🤶🎅🎀🧝🎁🎄🦌🤶🎀🎅🧝🎁🎄🦌🤶🎀🧝🎅🎁🎄🦌🤶🎀🧝🎁🎅🎄🦌🤶🎀🧝🎁🎄🎅🦌🤶🎀🧝🎁🎄🎅🤶🎀🎁🦌🎄🧝🤶🎅🎀🎁🦌🎄🧝🤶🎀🎅🎁🦌🎄🧝🤶🎀🎁🎅🦌🎄🧝🤶🎀🎁🦌🎅🎄🧝🤶🎀🎁🦌🎄🎅🧝🤶🎀🎁🦌🎄🎅🤶🎀🎁🎄🧝🦌🤶🎅🎀🎁🎄🧝🦌🤶🎀🎅🎁🎄🧝🦌🤶🎀🎁🎅🎄🧝🦌🤶🎀🎁🎄🎅🧝🦌🤶🎀🎁🎄🧝🎅🦌🤶🎀🎁🎄🧝🎅🤶🦌🧝🎄🎁🎀🎅🤶🦌🧝🎀🎁🎄🎅🤶🦌🎄🧝🎁🎀🎅🤶🦌🎄🎁🎀🧝🎅🤶🦌🎄🎀🧝🎁🎅🤶🦌🎄🎀🎁🧝🎅🤶🦌🎁🧝🎄🎀🎅🤶🦌🎁🧝🎀🎄🎅🤶🦌🎁🎀🧝🎄🎅🤶🦌🎀🎄🧝🎁🎅🤶🦌🎀🎄🎁🧝🎅🤶🧝🦌🎄🎀🎁🎅🤶🧝🦌🎀🎄🎁🎅🤶🧝🦌🎀🎁🎄🎅🤶🧝🎄🦌🎀🎁🎅🤶🧝🎁🦌🎄🎀🎅🤶🧝🎁🎄🦌🎀🎅🤶🧝🎀🦌🎁🎄🎅🤶🧝🎀🎄🦌🎁🎅🤶🧝🎀🎁🦌🎄🎅🤶🎄🦌🧝🎀🎁🎅🤶🎄🦌🎀🧝🎁🎅🤶🎄🦌🎀🎁🧝🎅🤶🎄🎁🦌🧝🎀🎅🤶🎄🎁🦌🎀🧝🎅🤶🎄🎁🎀🧝🦌🎅🤶🎄🎀🦌🧝🎁🎅🤶🎄🎀🧝🎁🦌🎅🤶🎄🎀🎁🦌🧝🎅🤶🎁🦌🎄🎀🧝🎅🤶🎁🎄🎀🦌🧝🎅🤶🎁🎀🦌🎄🧝🎅🤶🎁🎀🧝🎄🦌🎅🤶🎁🎀🎄🧝🦌🎅🤶🎀🦌🎁🧝🎄🎅🤶🎀🧝🦌🎁🎄🎅🤶🎀🧝🎁🦌🎄🎅🤶🎀🎄🧝🎁🦌🎅🤶🎀🎄🎁🦌🧝🎅🤶🎀🎄🎁🧝🦌']"
      ]
     },
     "execution_count": 49,
     "metadata": {},
     "output_type": "execute_result"
    }
   ],
   "source": [
    "ans"
   ]
  },
  {
   "cell_type": "code",
   "execution_count": 50,
   "id": "7c2f4647",
   "metadata": {},
   "outputs": [
    {
     "data": {
      "text/html": [
       "<div>\n",
       "<style scoped>\n",
       "    .dataframe tbody tr th:only-of-type {\n",
       "        vertical-align: middle;\n",
       "    }\n",
       "\n",
       "    .dataframe tbody tr th {\n",
       "        vertical-align: top;\n",
       "    }\n",
       "\n",
       "    .dataframe thead th {\n",
       "        text-align: right;\n",
       "    }\n",
       "</style>\n",
       "<table border=\"1\" class=\"dataframe\">\n",
       "  <thead>\n",
       "    <tr style=\"text-align: right;\">\n",
       "      <th></th>\n",
       "      <th>schedule</th>\n",
       "    </tr>\n",
       "  </thead>\n",
       "  <tbody>\n",
       "    <tr>\n",
       "      <th>0</th>\n",
       "      <td>🎅🤶🦌🧝🎄🎁🎀🎅🤶🦌🧝🎁🎄🎀🤶🎅🦌🧝🎁🎄🎀🤶🦌🎅🧝🎁🎄🎀🤶🦌🧝🎅🎁🎄🎀🤶🦌🧝🎁🎅🎄🎀🤶🦌🧝🎁...</td>\n",
       "    </tr>\n",
       "    <tr>\n",
       "      <th>1</th>\n",
       "      <td>🎅🤶🦌🎄🧝🎁🎀🎅🤶🦌🧝🎄🎁🎀🤶🎅🦌🧝🎄🎁🎀🤶🦌🎅🧝🎄🎁🎀🤶🦌🧝🎅🎄🎁🎀🤶🦌🧝🎄🎅🎁🎀🤶🦌🧝🎄...</td>\n",
       "    </tr>\n",
       "    <tr>\n",
       "      <th>2</th>\n",
       "      <td>🎅🤶🦌🧝🎁🎄🎀🎅🤶🦌🧝🎁🎀🎄🤶🎅🦌🧝🎁🎀🎄🤶🦌🎅🧝🎁🎀🎄🤶🦌🧝🎅🎁🎀🎄🤶🦌🧝🎁🎅🎀🎄🤶🦌🧝🎁...</td>\n",
       "    </tr>\n",
       "  </tbody>\n",
       "</table>\n",
       "</div>"
      ],
      "text/plain": [
       "                                            schedule\n",
       "0  🎅🤶🦌🧝🎄🎁🎀🎅🤶🦌🧝🎁🎄🎀🤶🎅🦌🧝🎁🎄🎀🤶🦌🎅🧝🎁🎄🎀🤶🦌🧝🎅🎁🎄🎀🤶🦌🧝🎁🎅🎄🎀🤶🦌🧝🎁...\n",
       "1  🎅🤶🦌🎄🧝🎁🎀🎅🤶🦌🧝🎄🎁🎀🤶🎅🦌🧝🎄🎁🎀🤶🦌🎅🧝🎄🎁🎀🤶🦌🧝🎅🎄🎁🎀🤶🦌🧝🎄🎅🎁🎀🤶🦌🧝🎄...\n",
       "2  🎅🤶🦌🧝🎁🎄🎀🎅🤶🦌🧝🎁🎀🎄🤶🎅🦌🧝🎁🎀🎄🤶🦌🎅🧝🎁🎀🎄🤶🦌🧝🎅🎁🎀🎄🤶🦌🧝🎁🎅🎀🎄🤶🦌🧝🎁..."
      ]
     },
     "execution_count": 50,
     "metadata": {},
     "output_type": "execute_result"
    }
   ],
   "source": [
    "import pandas as pd\n",
    "sub = pd.DataFrame()\n",
    "sub['schedule'] = ans\n",
    "sub.to_csv('../subs/submission_2440_final.csv',index=False)\n",
    "sub.head()"
   ]
  },
  {
   "cell_type": "code",
   "execution_count": null,
   "id": "51f9e9fc-73eb-4415-a734-8b8755126369",
   "metadata": {},
   "outputs": [],
   "source": []
  }
 ],
 "metadata": {
  "kernelspec": {
   "display_name": "cplex201",
   "language": "python",
   "name": "cplex201"
  },
  "language_info": {
   "codemirror_mode": {
    "name": "ipython",
    "version": 3
   },
   "file_extension": ".py",
   "mimetype": "text/x-python",
   "name": "python",
   "nbconvert_exporter": "python",
   "pygments_lexer": "ipython3",
   "version": "3.8.12"
  },
  "toc-showtags": true
 },
 "nbformat": 4,
 "nbformat_minor": 5
}
