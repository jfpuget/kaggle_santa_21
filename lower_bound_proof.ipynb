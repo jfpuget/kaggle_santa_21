{
 "cells": [
  {
   "cell_type": "code",
   "execution_count": 1,
   "id": "9b253559-0aeb-49eb-ae09-2431369e6068",
   "metadata": {},
   "outputs": [],
   "source": [
    "import itertools\n",
    "from scipy.optimize import linear_sum_assignment\n",
    "import numpy as np\n",
    "from tqdm import tqdm\n",
    "from collections import Counter"
   ]
  },
  {
   "cell_type": "code",
   "execution_count": 2,
   "id": "6dd56338-9bd2-4c18-8258-b7aa2d9ed0a4",
   "metadata": {},
   "outputs": [],
   "source": [
    "import os \n",
    "os.environ['CPLEX_STUDIO_DIR201'] = \"/opt/ibm/ILOG/CPLEX_Studio_Community201\"\n",
    "os.environ['CPLEX_STUDIO_KEY'] = \"xxxx\"\n",
    "from docplex.mp.model import Model\n",
    "from docplex.mp.environment import Environment"
   ]
  },
  {
   "cell_type": "code",
   "execution_count": 3,
   "id": "fa67c80a-5124-4f4b-80e9-55892196d359",
   "metadata": {},
   "outputs": [],
   "source": [
    "permutations = [''.join(x) for x in itertools.permutations(['1','2','3','4','5','6','7'], 7)]\n",
    "permutations1 = ['12' + ''.join(x) for x in itertools.permutations(['3','4','5','6','7'], 5)]"
   ]
  },
  {
   "cell_type": "code",
   "execution_count": 4,
   "id": "6a70752e-31f4-4751-b65a-97e7d725c763",
   "metadata": {},
   "outputs": [
    {
     "data": {
      "text/plain": [
       "5040"
      ]
     },
     "execution_count": 4,
     "metadata": {},
     "output_type": "execute_result"
    }
   ],
   "source": [
    "N = len(permutations)\n",
    "N"
   ]
  },
  {
   "cell_type": "code",
   "execution_count": 5,
   "id": "3a582546",
   "metadata": {},
   "outputs": [],
   "source": [
    "MAX_COST = 7"
   ]
  },
  {
   "cell_type": "code",
   "execution_count": 6,
   "id": "d7fb5897-5f08-4b0a-a999-db62df008790",
   "metadata": {},
   "outputs": [],
   "source": [
    "p2i = {}\n",
    "for i,p in enumerate(permutations):\n",
    "    p2i[p] = i"
   ]
  },
  {
   "cell_type": "code",
   "execution_count": 7,
   "id": "e8e11cc2-0a18-482f-ac88-40dc3ec863e8",
   "metadata": {},
   "outputs": [
    {
     "data": {
      "text/plain": [
       "5040"
      ]
     },
     "execution_count": 7,
     "metadata": {},
     "output_type": "execute_result"
    }
   ],
   "source": [
    "len(permutations)"
   ]
  },
  {
   "cell_type": "code",
   "execution_count": 8,
   "id": "6c819f39-ca7b-4a90-8cc1-e77533e500c7",
   "metadata": {},
   "outputs": [],
   "source": [
    "permutations = np.array(permutations)\n",
    "permutations_set = set(permutations)\n",
    "#np.random.shuffle(permutations)"
   ]
  },
  {
   "cell_type": "code",
   "execution_count": 9,
   "id": "e29e7936-0330-4c4d-9351-ca92afd74340",
   "metadata": {},
   "outputs": [],
   "source": [
    "def finalize(strings):\n",
    "    replace_dict = {\n",
    "        \"1\": '🎅', \n",
    "        \"2\": '🤶', \n",
    "        \"3\": '🦌', \n",
    "        \"4\": '🧝', \n",
    "        \"5\": '🎄', \n",
    "        \"6\": '🎁', \n",
    "        \"7\": '🎀', \n",
    "    }\n",
    "    ans = strings.copy()\n",
    "    for i in range(3):\n",
    "        for k,v in replace_dict.items():\n",
    "            ans[i] = ans[i].replace(k, v)\n",
    "    return ans"
   ]
  },
  {
   "cell_type": "code",
   "execution_count": 10,
   "id": "614ef4ed-c57a-46d9-ac63-42ec644f42e1",
   "metadata": {},
   "outputs": [
    {
     "name": "stderr",
     "output_type": "stream",
     "text": [
      "100%|███████████████████████████████████████| 5040/5040 [01:16<00:00, 66.18it/s]\n"
     ]
    },
    {
     "data": {
      "text/plain": [
       "24212160"
      ]
     },
     "execution_count": 10,
     "metadata": {},
     "output_type": "execute_result"
    }
   ],
   "source": [
    "def get_cost(p1, p2):\n",
    "    if p1 == p2:\n",
    "        return 1000\n",
    "    for i in range(1, 8):\n",
    "        if p1[i:] == p2[:-i]:\n",
    "            if i == 7:\n",
    "                return 7 - 1e-2\n",
    "            if i > 1 and p1[:i] == p2[-i:]:\n",
    "                return 10000\n",
    "            s = p1[:i] + p2\n",
    "            s = s[1:-1]\n",
    "            for k in range(len(s) - 7):\n",
    "                if s[k:k+7] in permutations_set:\n",
    "                    return 10000\n",
    "            return i #- (2**i - 2) * 2**(-13)\n",
    "    return 10000\n",
    "\n",
    "p1, p2 = '1234567', '3456721'\n",
    "get_cost(p1, p2)\n",
    "\n",
    "def get_dmat(permutations):\n",
    "    L = len(permutations)\n",
    "    var_idx = []\n",
    "    cost = {}\n",
    "    for i,p1 in enumerate(tqdm(permutations)):\n",
    "        for j,p2 in enumerate(permutations):\n",
    "            cost_ij = get_cost(p1, p2)\n",
    "            if cost_ij <= MAX_COST:\n",
    "                var_idx.append((i, j))\n",
    "                cost[(i,j)] = cost_ij\n",
    "    return var_idx, cost\n",
    "\n",
    "var_idx, all_cost = get_dmat(permutations)\n",
    "\n",
    "len(var_idx)"
   ]
  },
  {
   "cell_type": "code",
   "execution_count": 11,
   "id": "0b8ec6c2-81fb-47ab-8ccd-932d0b6cbbd4",
   "metadata": {},
   "outputs": [],
   "source": [
    "def get_pair_idx(var_idx):\n",
    "    firsts = {}\n",
    "    lasts = {}\n",
    "    for i,j in var_idx:\n",
    "        if not firsts.get(j, False):\n",
    "            firsts[j] = [i]\n",
    "        else:\n",
    "            firsts[j].append(i)\n",
    "        if not lasts.get(i, False):\n",
    "            lasts[i] = [j]\n",
    "        else:\n",
    "            lasts[i].append(j)\n",
    "    return firsts, lasts\n",
    "\n",
    "\n",
    "firsts, lasts = get_pair_idx(var_idx)"
   ]
  },
  {
   "cell_type": "code",
   "execution_count": 12,
   "id": "2efdb40c",
   "metadata": {},
   "outputs": [
    {
     "data": {
      "text/plain": [
       "(4804, 4804)"
      ]
     },
     "execution_count": 12,
     "metadata": {},
     "output_type": "execute_result"
    }
   ],
   "source": [
    "len(firsts[0]), len(lasts[0])"
   ]
  },
  {
   "cell_type": "code",
   "execution_count": 13,
   "id": "b5e73d0e-0c2f-4966-88da-77b83a7faeac",
   "metadata": {},
   "outputs": [
    {
     "name": "stdout",
     "output_type": "stream",
     "text": [
      "* system is: Linux 64bit\n",
      "* Python version 3.8.12, located at: /home/jpuget/miniconda3/envs/cplex201/bin/python\n",
      "* docplex is present, version is 2.18.200\n",
      "* CPLEX library is present, version is 20.1.0.0, located at: /home/jpuget/miniconda3/envs/cplex201/lib/python3.8/site-packages\n",
      "* pandas is present, version is 1.3.4\n"
     ]
    }
   ],
   "source": [
    "env = Environment()\n",
    "env.print_information()"
   ]
  },
  {
   "cell_type": "code",
   "execution_count": 14,
   "id": "35b38525-eed2-4850-a5ff-629477375686",
   "metadata": {},
   "outputs": [
    {
     "name": "stdout",
     "output_type": "stream",
     "text": [
      "Model: santa\n",
      " - number of variables: 24217200\n",
      "   - binary=0, integer=24217200, continuous=0\n",
      " - number of constraints: 0\n",
      "   - linear=0\n",
      " - parameters: defaults\n",
      " - objective: none\n",
      " - problem type is: MILP\n"
     ]
    }
   ],
   "source": [
    "mdl = Model(\"santa\")\n",
    "next_perm = mdl.integer_var_dict(var_idx)\n",
    "visits = mdl.integer_var_list(range(N))\n",
    "mdl.print_information()"
   ]
  },
  {
   "cell_type": "code",
   "execution_count": 15,
   "id": "3afa767c-6ab0-4a30-a628-ae9dd2a4f44a",
   "metadata": {},
   "outputs": [
    {
     "name": "stdout",
     "output_type": "stream",
     "text": [
      "Model: santa\n",
      " - number of variables: 24217200\n",
      "   - binary=0, integer=24217200, continuous=0\n",
      " - number of constraints: 5040\n",
      "   - linear=5040\n",
      " - parameters: defaults\n",
      " - objective: none\n",
      " - problem type is: MILP\n"
     ]
    }
   ],
   "source": [
    "mdl.add_constraints(\n",
    "    visits[i] >= 3\n",
    "    for i in range(120))\n",
    "\n",
    "mdl.add_constraints(\n",
    "    visits[i] >= 1\n",
    "    for i in range(120, N))\n",
    "\n",
    "mdl.print_information()"
   ]
  },
  {
   "cell_type": "code",
   "execution_count": 16,
   "id": "ce872aab-298b-4422-9595-b65af1d426ae",
   "metadata": {},
   "outputs": [
    {
     "name": "stdout",
     "output_type": "stream",
     "text": [
      "Model: santa\n",
      " - number of variables: 24217200\n",
      "   - binary=0, integer=24217200, continuous=0\n",
      " - number of constraints: 15120\n",
      "   - linear=15120\n",
      " - parameters: defaults\n",
      " - objective: none\n",
      " - problem type is: MILP\n"
     ]
    }
   ],
   "source": [
    "mdl.add_constraints(\n",
    "    mdl.sum(next_perm[(i,j)] for i in firsts[j]) == visits[j]\n",
    "    for j in range(N))\n",
    "\n",
    "mdl.add_constraints(\n",
    "    mdl.sum(next_perm[(i,j)] for j in lasts[i]) == visits[i]\n",
    "    for i in range(N))\n",
    "\n",
    "mdl.print_information()"
   ]
  },
  {
   "cell_type": "code",
   "execution_count": 17,
   "id": "0fb0007f-829c-427c-afaa-716cf7332f98",
   "metadata": {},
   "outputs": [],
   "source": [
    "def rot(s, i=1):\n",
    "    if i <= 0:\n",
    "        return s\n",
    "    return s[i:] + s[:i]\n",
    "\n",
    "def get_canon(s):\n",
    "    best = s\n",
    "    for i in range(len(s)-1):\n",
    "        s = rot(s)\n",
    "        if s[0] < best[0]:\n",
    "            best = s\n",
    "    return best\n",
    "\n",
    "def get_1_cycle(s):\n",
    "    s = get_canon(s)\n",
    "    cycle = [rot(s, i) for i in range(len(s))]\n",
    "    cycle = [p2i[p] for p in cycle]\n",
    "    cycle = cycle + [cycle[0]]\n",
    "    return cycle\n",
    "    \n",
    "cycles1 = []\n",
    "for p in permutations:\n",
    "    if p != get_canon(p):\n",
    "        continue\n",
    "    cycles1.append(get_1_cycle(p))"
   ]
  },
  {
   "cell_type": "code",
   "execution_count": 18,
   "id": "c92d7642-1b8f-4e68-97bb-84ed78254f4b",
   "metadata": {},
   "outputs": [
    {
     "data": {
      "text/plain": [
       "5040"
      ]
     },
     "execution_count": 18,
     "metadata": {},
     "output_type": "execute_result"
    }
   ],
   "source": [
    "len([(i,j) for cycle in cycles1 for i,j in zip(cycle[:-1],cycle[1:])])\n"
   ]
  },
  {
   "cell_type": "code",
   "execution_count": 19,
   "id": "7515d54c-d12a-463c-8d0e-65438b93925a",
   "metadata": {},
   "outputs": [],
   "source": [
    "def get_inner(cycle):\n",
    "    inner = []\n",
    "    for i,j in zip(cycle[:-1],cycle[1:]):\n",
    "        inner.extend([(k, j) for k in firsts[j] if k not in cycle])\n",
    "    return inner\n",
    "\n",
    "def get_outer(cycle):\n",
    "    outer = []\n",
    "    for i,j in zip(cycle[:-1],cycle[1:]):\n",
    "        outer.extend([(i, k) for k in lasts[i] if k not in cycle])\n",
    "    return outer\n"
   ]
  },
  {
   "cell_type": "code",
   "execution_count": 20,
   "id": "4d8cbbd7-bc0b-4ae4-b0e6-e1f356a108a7",
   "metadata": {},
   "outputs": [
    {
     "name": "stdout",
     "output_type": "stream",
     "text": [
      "Model: santa\n",
      " - number of variables: 24217200\n",
      "   - binary=0, integer=24217200, continuous=0\n",
      " - number of constraints: 16560\n",
      "   - linear=16560\n",
      " - parameters: defaults\n",
      " - objective: none\n",
      " - problem type is: MILP\n"
     ]
    }
   ],
   "source": [
    "mdl.add_constraints(\n",
    "    mdl.sum(next_perm[(i,j)] for i,j in get_inner(cycle)) >= 1\n",
    "    for cycle in cycles1)\n",
    "\n",
    "mdl.add_constraints(\n",
    "    mdl.sum(next_perm[(i,j)] for i,j in get_outer(cycle)) >= 1\n",
    "    for cycle in cycles1)\n",
    "\n",
    "mdl.print_information()"
   ]
  },
  {
   "cell_type": "code",
   "execution_count": 21,
   "id": "3a7ade7c-079a-41e9-8209-d0790e2b6fd1",
   "metadata": {},
   "outputs": [
    {
     "name": "stderr",
     "output_type": "stream",
     "text": [
      "100%|████████████████████████████████████| 5040/5040 [00:00<00:00, 34261.80it/s]\n"
     ]
    },
    {
     "data": {
      "text/plain": [
       "840"
      ]
     },
     "execution_count": 21,
     "metadata": {},
     "output_type": "execute_result"
    }
   ],
   "source": [
    "def remove_start(s, start):\n",
    "    idx = s.index(start)\n",
    "    s = s[idx:] + s[:idx]\n",
    "    return s[0] + get_canon(s[1:])\n",
    "\n",
    "def get_2_cycle(p, start):\n",
    "    p = remove_start(p, start)\n",
    "    p1 = p[1:]\n",
    "    inner = [rot(p1, i) for i in range(len(p1))]\n",
    "    cycle = [rot(q+start, j) for q in inner for j in range(len(p))]\n",
    "    #cycle1 = [get_1_cycle(q+start) for q in inner]\n",
    "    #cycle = get_canon(cycle)\n",
    "    cycle = [p2i[p] for p in cycle]\n",
    "    cycle = cycle + [cycle[0]]\n",
    "    return p, cycle\n",
    "\n",
    "cycles2 = {}\n",
    "\n",
    "for p in tqdm(permutations):\n",
    "    for start in p:\n",
    "        p1 = remove_start(p, start)\n",
    "        if cycles2.get(p1, None) is not None:\n",
    "            continue\n",
    "        p1, cycle = get_2_cycle(p, start)\n",
    "        cycles2[p1] = cycle\n",
    "\n",
    "cycles2['2134567']\n",
    "\n",
    "len(cycles2)"
   ]
  },
  {
   "cell_type": "code",
   "execution_count": 22,
   "id": "55ef5d16-3431-4c29-9831-254da5e5d685",
   "metadata": {
    "scrolled": true,
    "tags": []
   },
   "outputs": [
    {
     "data": {
      "text/plain": [
       "[873,\n",
       " 1744,\n",
       " 2610,\n",
       " 3456,\n",
       " 4200,\n",
       " 4320,\n",
       " 0,\n",
       " 1745,\n",
       " 2612,\n",
       " 3462,\n",
       " 4224,\n",
       " 4440,\n",
       " 720,\n",
       " 153,\n",
       " 2613,\n",
       " 3464,\n",
       " 4230,\n",
       " 4464,\n",
       " 840,\n",
       " 1473,\n",
       " 304,\n",
       " 3465,\n",
       " 4232,\n",
       " 4470,\n",
       " 864,\n",
       " 1689,\n",
       " 2224,\n",
       " 450,\n",
       " 4233,\n",
       " 4472,\n",
       " 870,\n",
       " 1731,\n",
       " 2536,\n",
       " 2970,\n",
       " 576,\n",
       " 4473,\n",
       " 872,\n",
       " 1741,\n",
       " 2596,\n",
       " 3378,\n",
       " 3696,\n",
       " 600,\n",
       " 873]"
      ]
     },
     "execution_count": 22,
     "metadata": {},
     "output_type": "execute_result"
    }
   ],
   "source": [
    "cycles2['1234567']"
   ]
  },
  {
   "cell_type": "code",
   "execution_count": 23,
   "id": "e1dab09a-1a1f-4205-8ebf-997ef375199d",
   "metadata": {
    "scrolled": true,
    "tags": []
   },
   "outputs": [
    {
     "data": {
      "text/plain": [
       "200568"
      ]
     },
     "execution_count": 23,
     "metadata": {},
     "output_type": "execute_result"
    }
   ],
   "source": [
    "len(get_inner(cycles2['1234567']))"
   ]
  },
  {
   "cell_type": "code",
   "execution_count": 24,
   "id": "c0f5b713-b324-4341-bce7-56da5c18051c",
   "metadata": {},
   "outputs": [
    {
     "name": "stdout",
     "output_type": "stream",
     "text": [
      "Model: santa\n",
      " - number of variables: 24217200\n",
      "   - binary=0, integer=24217200, continuous=0\n",
      " - number of constraints: 18240\n",
      "   - linear=18240\n",
      " - parameters: defaults\n",
      " - objective: none\n",
      " - problem type is: MILP\n"
     ]
    }
   ],
   "source": [
    "mdl.add_constraints(\n",
    "    mdl.sum(next_perm[(i,j)] for i,j in get_inner(cycle)) >= 1\n",
    "    for cycle in cycles2.values())\n",
    "\n",
    "mdl.add_constraints(\n",
    "    mdl.sum(next_perm[(i,j)] for i,j in get_outer(cycle)) >= 1\n",
    "    for cycle in cycles2.values())\n",
    "\n",
    "mdl.print_information()"
   ]
  },
  {
   "cell_type": "code",
   "execution_count": 25,
   "id": "3a3d211d",
   "metadata": {},
   "outputs": [
    {
     "name": "stdout",
     "output_type": "stream",
     "text": [
      "Model: santa\n",
      " - number of variables: 24217200\n",
      "   - binary=0, integer=24217200, continuous=0\n",
      " - number of constraints: 18240\n",
      "   - linear=18240\n",
      " - parameters: defaults\n",
      " - objective: minimize\n",
      " - problem type is: MILP\n",
      "Checking license ...\n",
      "License found. [1.21 s]\n",
      "Version identifier: 20.1.0.0 | 2020-11-11 | 9bedb6d68\n",
      "CPXPARAM_Read_DataCheck                          1\n",
      "CPXPARAM_Threads                                 5\n",
      "CPXPARAM_RandomSeed                              202001241\n",
      "CPXPARAM_MIP_Cuts_Gomory                         -1\n",
      "CPXPARAM_TimeLimit                               50000\n",
      "CPXPARAM_MIP_Tolerances_MIPGap                   0\n",
      "Presolve has eliminated 5040 rows and 0 columns...\n",
      "Presolve has eliminated 5040 rows and 0 columns...\n",
      "Tried aggregator 1 time.\n",
      "Presolve has eliminated 5040 rows and 0 columns...\n",
      "MIP Presolve eliminated 5040 rows and 0 columns.\n",
      "Reduced MIP has 13200 rows, 24217200 columns, and 433802880 nonzeros.\n",
      "Reduced MIP has 0 binaries, 24217200 generals, 0 SOSs, and 0 indicators.\n",
      "Presolve time = 148.33 sec. (66566.48 ticks)\n",
      "Presolve has eliminated 0 rows and 0 columns...\n",
      "Presolve has eliminated 0 rows and 0 columns...\n",
      "Tried aggregator 1 time.\n",
      "Presolve has eliminated 0 rows and 0 columns...\n",
      "Detecting symmetries...\n",
      "Elapsed time for symmetry detection = 286.97 sec. (50289.89 ticks)\n",
      "Found 0 symmetric permutations.\n",
      "Reduced MIP has 13200 rows, 24217200 columns, and 433802880 nonzeros.\n",
      "Reduced MIP has 0 binaries, 24217200 generals, 0 SOSs, and 0 indicators.\n",
      "Presolve time = 608.81 sec. (160532.68 ticks)\n",
      "MIP emphasis: balance optimality and feasibility.\n",
      "MIP search method: dynamic search.\n",
      "Parallel mode: deterministic, using up to 5 threads.\n",
      "Root relaxation solution time = 1236.94 sec. (452407.99 ticks)\n",
      "\n",
      "        Nodes                                         Cuts/\n",
      "   Node  Left     Objective  IInf  Best Integer    Best Bound    ItCnt     Gap\n",
      "\n",
      "*     0+    0                        68871.2300        0.0000           100.00%\n",
      "      0     0     7317.6000  4367    68871.2300     7317.6000      216   89.37%\n",
      "Elapsed time = 38.56 sec. (10001.53 ticks) for 11246 of 13200 candidates for flow covers\n",
      "Elapsed time = 86.13 sec. (20013.32 ticks) for 12169 of 13200 candidates for flow covers\n",
      "Elapsed time = 112.07 sec. (30025.65 ticks) for 12862 of 13200 candidates for flow covers\n",
      "*     0+    0                         7318.0600     7317.6000             0.01%\n",
      "Heuristic still looking.\n",
      "Heuristic still looking.\n",
      "Heuristic still looking.\n",
      "*     0+    0                         7318.0100     7317.6000             0.01%\n",
      "*     0+    0                         7317.9400     7317.6000             0.00%\n",
      "*     0+    0                         7317.9100     7317.6000             0.00%\n",
      "      0     0  -1.00000e+75     0     7317.9100     7317.6000      216    0.00%\n",
      "\n",
      "Repeating presolve.\n",
      "Presolve has eliminated 2 rows and 23983326 columns...\n",
      "Presolve has eliminated 1320 rows and 24028200 columns...\n",
      "Presolve has improved bounds 255338 times...\n",
      "Aggregator has done 5760 substitutions...\n",
      "Tried aggregator 2 times.\n",
      "MIP Presolve eliminated 1440 rows and 24028200 columns.\n",
      "Aggregator did 5760 substitutions.\n",
      "Reduced MIP has 6000 rows, 183240 columns, and 2192760 nonzeros.\n",
      "Reduced MIP has 74880 binaries, 108360 generals, 0 SOSs, and 0 indicators.\n",
      "Presolve time = 42.84 sec. (40491.37 ticks)\n",
      "Tried aggregator 1 time.\n",
      "Detecting symmetries...\n",
      "Reduced MIP has 6000 rows, 183240 columns, and 2192760 nonzeros.\n",
      "Reduced MIP has 74880 binaries, 108360 generals, 0 SOSs, and 0 indicators.\n",
      "Presolve time = 1.53 sec. (1111.91 ticks)\n",
      "Represolve time = 71.51 sec. (55778.69 ticks)\n",
      "Probing time = 0.18 sec. (72.95 ticks)\n",
      "Clique table members: 357351.\n",
      "MIP emphasis: balance optimality and feasibility.\n",
      "MIP search method: dynamic search.\n",
      "Parallel mode: deterministic, using up to 5 threads.\n",
      "Root relaxation solution time = 1.25 sec. (1163.30 ticks)\n",
      "\n",
      "        Nodes                                         Cuts/\n",
      "   Node  Left     Objective  IInf  Best Integer    Best Bound    ItCnt     Gap\n",
      "\n",
      "*     0+    0                         7317.9100     7317.6000             0.00%\n",
      "      0     0     7317.6000  1742     7317.9100     7317.6000      319    0.00%\n",
      "*     0+    0                         7317.6900     7317.6000             0.00%\n",
      "      0     0     7317.6000  1200     7317.6900       Cuts: 2      685    0.00%\n",
      "      0     0     7317.6000  1093     7317.6900   ZeroHalf: 6     4926    0.00%\n",
      "      0     0     7317.6000  1007     7317.6900   ZeroHalf: 4     8131    0.00%\n",
      "*     0+    0                         7317.6500     7317.6000             0.00%\n",
      "      0     0  -1.00000e+75     0     7317.6500     7317.6000     8131    0.00%\n",
      "      0     0     7317.6000   705     7317.6500  ZeroHalf: 11     9226    0.00%\n",
      "      0     0     7317.6000   884     7317.6500  ZeroHalf: 75    10541    0.00%\n",
      "      0     0     7317.6000   997     7317.6500  ZeroHalf: 10    14035    0.00%\n",
      "*     0+    0                         7317.6400     7317.6000             0.00%\n",
      "*     0+    0                         7317.6200     7317.6000             0.00%\n",
      "      0     0  -1.00000e+75     0     7317.6200     7317.6000    14035    0.00%\n",
      "      0     2     7317.6000   949     7317.6200     7317.6000    14035    0.00%\n",
      "Elapsed time = 3288.24 sec. (1482851.37 ticks, tree = 0.02 MB, solutions = 9)\n",
      "      2     3     7317.6000   735     7317.6200     7317.6000    14347    0.00%\n",
      "      4     3     7317.6000   814     7317.6200     7317.6000    16250    0.00%\n",
      "      6     3     7317.6000   969     7317.6200     7317.6000    18017    0.00%\n",
      "      8     3     7317.6000   943     7317.6200     7317.6000    21433    0.00%\n",
      "      9     1    infeasible           7317.6200     7317.6000    21442    0.00%\n",
      "     10     3     7317.6000  1000     7317.6200     7317.6000    25053    0.00%\n",
      "     11     1    infeasible           7317.6200     7317.6000    25059    0.00%\n",
      "     12     3     7317.6000   961     7317.6200     7317.6000    26705    0.00%\n",
      "     13     1    infeasible           7317.6200     7317.6000    26712    0.00%\n",
      "     14     3     7317.6000   697     7317.6200     7317.6000    28888    0.00%\n",
      "Elapsed time = 3333.92 sec. (1530204.50 ticks, tree = 0.02 MB, solutions = 9)\n",
      "     15     1    infeasible           7317.6200     7317.6000    28900    0.00%\n",
      "     17     1    infeasible           7317.6200     7317.6000    29121    0.00%\n",
      "     20     3     7317.6000   783     7317.6200     7317.6000    31779    0.00%\n",
      "     24     3     7317.6000   614     7317.6200     7317.6000    32246    0.00%\n",
      "     26     3     7317.6000   685     7317.6200     7317.6000    33077    0.00%\n",
      "     28     3     7317.6000   773     7317.6200     7317.6000    34442    0.00%\n",
      "     30     3     7317.6000   895     7317.6200     7317.6000    36442    0.00%\n",
      "     34     3     7317.6000   747     7317.6200     7317.6000    37681    0.00%\n",
      "     36     3     7317.6000   851     7317.6200     7317.6000    39297    0.00%\n",
      "     38     3     7317.6000   779     7317.6200     7317.6000    40505    0.00%\n",
      "Elapsed time = 3367.65 sec. (1564374.15 ticks, tree = 0.02 MB, solutions = 9)\n",
      "     40     3     7317.6000   640     7317.6200     7317.6000    40992    0.00%\n",
      "     43     1    infeasible           7317.6200     7317.6000    41389    0.00%\n",
      "     44     3     7317.6000   724     7317.6200     7317.6000    42295    0.00%\n",
      "     46     3     7317.6000   761     7317.6200     7317.6000    43627    0.00%\n",
      "     50     3     7317.6000   585     7317.6200     7317.6000    45025    0.00%\n",
      "     52     4     7317.6000   581     7317.6200     7317.6000    45613    0.00%\n",
      "     56     5     7317.6000   643     7317.6200     7317.6000    46219    0.00%\n",
      "     58     4     7317.6000   620     7317.6200     7317.6000    47081    0.00%\n",
      "     60     7     7317.6000   645     7317.6200     7317.6000    47299    0.00%\n",
      "     65     8     7317.6000   599     7317.6200     7317.6000    47742    0.00%\n",
      "Elapsed time = 3386.93 sec. (1580699.63 ticks, tree = 0.62 MB, solutions = 9)\n",
      "     69     9     7317.6000   589     7317.6200     7317.6000    51122    0.00%\n",
      "     73    10     7317.6000   616     7317.6200     7317.6000    51485    0.00%\n",
      "     76    10    infeasible           7317.6200     7317.6000    51872    0.00%\n",
      "     80    12     7317.6053   670     7317.6200     7317.6000    50502    0.00%\n",
      "     83    13     7317.6000   543     7317.6200     7317.6000    53125    0.00%\n",
      "     88    14     7317.6017   605     7317.6200     7317.6000    53622    0.00%\n",
      "     90    21     7317.6017   546     7317.6200     7317.6000    57307    0.00%\n",
      "     96    22     7317.6025   521     7317.6200     7317.6000    57911    0.00%\n",
      "    102    23     7317.6050   445     7317.6200     7317.6000    58412    0.00%\n",
      "    105    23     7317.6000   506     7317.6200     7317.6000    59904    0.00%\n",
      "Elapsed time = 3399.32 sec. (1592128.15 ticks, tree = 1.89 MB, solutions = 9)\n",
      "*   107+    6                         7317.6000     7317.6000             0.00%\n",
      "    108    24     7317.6000   476     7317.6000     7317.6000    60436    0.00%\n",
      "    113    26    infeasible           7317.6000     7317.6000    61798    0.00%\n",
      "\n",
      "Mixed integer rounding cuts applied:  1\n",
      "Zero-half cuts applied:  28\n",
      "\n",
      "Root node processing (before b&c):\n",
      "  Real time             = 3286.29 sec. (1483274.36 ticks)\n",
      "Parallel b&c, 5 threads:\n",
      "  Real time             =  121.19 sec. (114419.06 ticks)\n",
      "  Sync time (average)   =   78.17 sec.\n",
      "  Wait time (average)   =    0.00 sec.\n",
      "                          ------------\n",
      "Total (root+branch&cut) = 3407.48 sec. (1597693.41 ticks)\n",
      "* model santa solved with objective = 7317.600\n"
     ]
    }
   ],
   "source": [
    "objective = mdl.sum(next_perm[idx] * all_cost[idx]\n",
    "                    for idx in var_idx)\n",
    "                          \n",
    "# Set objective function\n",
    "mdl.minimize(objective)\n",
    "\n",
    "mdl.print_information()\n",
    "\n",
    "mdl.parameters.mip.tolerances.mipgap = 0.00\n",
    "mdl.parameters.timelimit = 50000 \n",
    "mdl.parameters.threads = 5\n",
    "mdl.parameters.mip.cuts.gomory = -1\n",
    "\n",
    "mdl.solve(log_output=True)\n",
    "mdl.report()\n",
    "   "
   ]
  },
  {
   "cell_type": "code",
   "execution_count": 26,
   "id": "0aa210c8",
   "metadata": {},
   "outputs": [
    {
     "data": {
      "text/plain": [
       "(Counter({6.99: 240, 1.0: 4440, 2.0: 600}),\n",
       " Counter({6.99: 240, 1: 4440, 2: 600}))"
      ]
     },
     "execution_count": 26,
     "metadata": {},
     "output_type": "execute_result"
    }
   ],
   "source": [
    "sol = mdl.solution\n",
    "sol\n",
    "\n",
    "s = sol.get_value_dict(next_perm)\n",
    "s\n",
    "\n",
    "s_cost = {}\n",
    "s_cost1 = {}\n",
    "s_sol = {}\n",
    "for k,v in s.items():\n",
    "    if v > 0:\n",
    "        s_cost[k] = all_cost[k] * v\n",
    "        s_cost1[k] = all_cost[k] \n",
    "        s_sol[k] = v\n",
    "\n",
    "s_cost\n",
    "\n",
    "C = Counter(s_cost.values())\n",
    "C1 = Counter(s_cost1.values())\n",
    "C, C1"
   ]
  },
  {
   "cell_type": "code",
   "execution_count": 28,
   "id": "a8a02255-54f4-49e1-bc4f-cb63a77828ca",
   "metadata": {},
   "outputs": [
    {
     "data": {
      "text/plain": [
       "7320.0"
      ]
     },
     "execution_count": 28,
     "metadata": {},
     "output_type": "execute_result"
    }
   ],
   "source": [
    "np.sum([np.round(k) * v for k,v in C.items()])"
   ]
  }
 ],
 "metadata": {
  "kernelspec": {
   "display_name": "cplex201",
   "language": "python",
   "name": "cplex201"
  },
  "language_info": {
   "codemirror_mode": {
    "name": "ipython",
    "version": 3
   },
   "file_extension": ".py",
   "mimetype": "text/x-python",
   "name": "python",
   "nbconvert_exporter": "python",
   "pygments_lexer": "ipython3",
   "version": "3.8.12"
  },
  "toc-showtags": true
 },
 "nbformat": 4,
 "nbformat_minor": 5
}
